{
 "cells": [
  {
   "cell_type": "markdown",
   "metadata": {
    "nbpresent": {
     "id": "3b271f3b-f892-4ff1-b869-f4cd3df068a8"
    },
    "slideshow": {
     "slide_type": "slide"
    }
   },
   "source": [
    "# CS 5489 Machine Learning\n",
    "# Lecture 1: Python Tutorial\n",
    "## Dr. Antoni B. Chan\n",
    "### Dept. of Computer Science, City University of Hong Kong"
   ]
  },
  {
   "cell_type": "markdown",
   "metadata": {
    "nbpresent": {
     "id": "d71dad71-d878-4a3a-85c6-bad49734e8bf"
    },
    "slideshow": {
     "slide_type": "slide"
    }
   },
   "source": [
    "# Why Python?\n",
    "- General-purpose high-level programming language\n",
    "- Design philosophy emphasizes programmer productivity and code readability\n",
    "  - \"executable pseudo-code\"\n",
    "- Supports multiple programming paradigms\n",
    "  - object-oriented, imperative, functional\n",
    "- Dynamic typing and automatic memory management"
   ]
  },
  {
   "cell_type": "markdown",
   "metadata": {
    "nbpresent": {
     "id": "ea5d38fb-eb38-4eae-a728-3d5b8940c447"
    },
    "slideshow": {
     "slide_type": "slide"
    }
   },
   "source": [
    "# What is special about Python?\n",
    "- Object-oriented: everything is an object\n",
    "- Clean: usually one way to do something, not a dozen\n",
    "- Easy-to-learn: learn in 1-2 days\n",
    "- Easy-to-read\n",
    "- Powerful: full-fledged programming language"
   ]
  },
  {
   "cell_type": "markdown",
   "metadata": {
    "nbpresent": {
     "id": "5c8496e0-59c4-45d0-b653-50545337f1c4"
    },
    "slideshow": {
     "slide_type": "slide"
    }
   },
   "source": [
    "# Applications for Python\n",
    "- Scientific Computing\n",
    "  - numpy, scipy, ipython\n",
    "- Data Science, Deep Learning\n",
    "  - scikit-learn, matplotlib, pandas, keras, tensorflow\n",
    "- Web & Internet Development\n",
    "  - Django – complete web application framework\n",
    "  - model-view-controller design pattern\n",
    "  - templates, web server, object-relational mapper"
   ]
  },
  {
   "cell_type": "markdown",
   "metadata": {
    "nbpresent": {
     "id": "c2a0b197-fbd0-4b26-939d-164c2cab3050"
    },
    "slideshow": {
     "slide_type": "slide"
    }
   },
   "source": [
    "# Disadvantages of Python\n",
    "- Not as fast as Java or C\n",
    "- However, you can call C-compiled libraries from Python (e.g. Boost C++)\n",
    "- Alternatively, Python code can be compiled to improve speed\n",
    "  - Cython and PyPy\n",
    "  - requires type of variables to be declared"
   ]
  },
  {
   "cell_type": "markdown",
   "metadata": {
    "nbpresent": {
     "id": "fb621f44-f1c7-4481-adbe-ece14a1a5bc3"
    },
    "slideshow": {
     "slide_type": "slide"
    }
   },
   "source": [
    "# Installing Python\n",
    "- We will use Python 3\n",
    "  - Python 3 is not backwards compatible with Python 2.7\n",
    "- Anaconda (https://www.anaconda.com/download)\n",
    "  - single bundle includes most scientific computing packages.\n",
    "    - package manager for installing other libraries\n",
    "  - make sure to pick version for **Python 3**.\n",
    "  - easy install packages for Windows, Mac, Linux.\n",
    "    - (single directory install)"
   ]
  },
  {
   "cell_type": "markdown",
   "metadata": {
    "nbpresent": {
     "id": "6215c857-6edf-46a8-b5d2-cfc7fdde318a"
    },
    "slideshow": {
     "slide_type": "slide"
    }
   },
   "source": [
    "Running Python\n",
    "===============\n",
    "- Interactive shell (ipython)\n",
    "  - good for learning the language, experimenting with code, testing modules\n",
    "\n",
    "***\n",
    "```\n",
    "Nori:CS5489 abc$ ipython\n",
    "Python 3.5.4 |Anaconda, Inc.| (default, Oct  5 2017, 02:58:14) \n",
    "Type \"copyright\", \"credits\" or \"license\" for more information.\n",
    "\n",
    "IPython 4.2.0 -- An enhanced Interactive Python.\n",
    "?         -> Introduction and overview of IPython's features.\n",
    "%quickref -> Quick reference.\n",
    "help      -> Python's own help system.\n",
    "object?   -> Details about 'object', use 'object??' for extra details.\n",
    "\n",
    "In [1]: print(\"Hello, World\")\n",
    "Hello, World\n",
    "\n",
    "In [2]: \n",
    "Do you really want to exit ([y]/n)? y\n",
    "Nori:CS5489 abc$ \n",
    "\n",
    "```"
   ]
  },
  {
   "cell_type": "markdown",
   "metadata": {
    "nbpresent": {
     "id": "5f06f212-6d6f-4bd4-95e4-96017c7f650f"
    },
    "slideshow": {
     "slide_type": "subslide"
    }
   },
   "source": [
    "- Script file (hello.py)\n",
    "```python\n",
    "#!/usr/bin/python\n",
    "print(\"Hello, World\")\n",
    "```\n",
    "\n",
    "- Standalone script\n",
    "  - explicitly using python interpreter\n",
    "```\n",
    "Nori:~ abc$ python hello.py\n",
    "Hello, World\n",
    "```\n",
    "\n",
    "  - using magic shebang (Linux, Mac OS X)\n",
    "```\n",
    "Nori:~ abc$ ./hello.py \n",
    "Hello, World\n",
    "```"
   ]
  },
  {
   "cell_type": "markdown",
   "metadata": {
    "nbpresent": {
     "id": "e4ea873a-2f24-45e1-bec1-eaa66c42313a"
    },
    "slideshow": {
     "slide_type": "slide"
    }
   },
   "source": [
    "# Jupyter (ipython notebooks)\n",
    "- Launch from _Anaconda Navigator_\n",
    "- browser-based interactive computing environment\n",
    "  - development, documenting, executing code, viewing results (inline images)\n",
    "  - whole session stored in notebook document (.ipynb)\n",
    "  - (also made and presented these slides!)"
   ]
  },
  {
   "cell_type": "markdown",
   "metadata": {
    "slideshow": {
     "slide_type": "subslide"
    }
   },
   "source": [
    "![ipynb](ipynb-demo.png)"
   ]
  },
  {
   "cell_type": "markdown",
   "metadata": {
    "nbpresent": {
     "id": "bbf2392e-c673-435d-8f7d-567bfd9300aa"
    },
    "slideshow": {
     "slide_type": "subslide"
    }
   },
   "source": [
    "# Jupyter tips\n",
    "- Keyboard shortcuts\n",
    "  - there are a lot of keyboard shortcuts for moving between cells, running cells, deleting and inserting cells.\n",
    "- Starting directory\n",
    "  - use the `--notebook-dir=mydir` option to start the notebook in a particular directory.\n",
    "  - Windows: create a shortcut to run `jupyter-notebook.exe --notebook-dir=%userprofile%`."
   ]
  },
  {
   "cell_type": "markdown",
   "metadata": {
    "slideshow": {
     "slide_type": "subslide"
    }
   },
   "source": [
    "- Problems viewing SVG images in ipynb\n",
    "  - SVG images may not display due to the serurity model of Jupyter. \n",
    "  - select \"Trust Notebook\" from the \"File\" menu to show the SVG images.\n",
    "- View ipynb in slideshow mode in a web browser (like this presentation!)\n",
    "```\n",
    "jupyter-nbconvert --to slides file.ipynb --post serve\n",
    "```\n",
    "- Convert to HTML to view statically in web browser\n",
    "```\n",
    "jupyter-nbconvert file.ipynb\n",
    "```"
   ]
  },
  {
   "cell_type": "markdown",
   "metadata": {
    "slideshow": {
     "slide_type": "subslide"
    }
   },
   "source": [
    "- ValueError when using matplotlib in Jupyter\n",
    "  - This mainly affects Mac where the OS locale is set to a non-English language.  Open \"Terminal\" app and go to Preferences -> Profiles -> Terminal -> Enviornment. Deselect the option \"Set locale variables automatically\".\n",
    "  - more info: http://stackoverflow.com/questions/15526996/ipython-notebook-locale-error\n",
    "- MacOS and Anaconda\n",
    "  - MacOS has a builtin python distribution. If you are using anaconda, make sure that you use the correct command-line commands. You can add \"/anaconda3/bin/\" in front of the command to make sure you are using the anaconda version.  Otherwise, it may default to the builtin python.\n",
    "\n"
   ]
  },
  {
   "cell_type": "markdown",
   "metadata": {
    "nbpresent": {
     "id": "8406e68c-d240-4c1f-9a3e-891642f80eaf"
    },
    "slideshow": {
     "slide_type": "slide"
    }
   },
   "source": [
    "# Outline\n",
    "1. Python Intro\n",
    "2. **Python Basics (identifiers, types, operators)**\n",
    "3. Control structures (conditional and loops)\n",
    "4. Functions, Classes\n",
    "5. File IO, Pickle, pandas\n",
    "6. NumPy\n",
    "7. matplotlib"
   ]
  },
  {
   "cell_type": "markdown",
   "metadata": {
    "nbpresent": {
     "id": "4a050f56-8194-4cfa-8ce8-c644b036305d"
    },
    "slideshow": {
     "slide_type": "slide"
    }
   },
   "source": [
    "# Python Basics\n",
    "- Formatting\n",
    "  - case-sensitive\n",
    "  - statements end in **newline** (not semicolon)\n",
    "    - use semicolon for multiple statements in one line.\n",
    "  - **indentation** for code blocks (after a colon)."
   ]
  },
  {
   "cell_type": "code",
   "execution_count": 1,
   "metadata": {
    "nbpresent": {
     "id": "0d31570d-88da-4f5d-98f4-1edd2d2d2d5b"
    },
    "slideshow": {
     "slide_type": "-"
    }
   },
   "outputs": [
    {
     "name": "stdout",
     "output_type": "stream",
     "text": [
      "Hello\n",
      "Hello\n",
      "World\n",
      "Who are you?\n"
     ]
    }
   ],
   "source": [
    "print(\"Hello\")\n",
    "print(\"Hello\"); print(\"World\")\n",
    "name = \"Bob\"\n",
    "if name == \"George\":\n",
    "    print(\"Hi George\")\n",
    "else:\n",
    "    print(\"Who are you?\")"
   ]
  },
  {
   "cell_type": "markdown",
   "metadata": {
    "nbpresent": {
     "id": "96434c92-189b-424b-87aa-66b8cd803560"
    },
    "slideshow": {
     "slide_type": "subslide"
    }
   },
   "source": [
    "- single-line comments with `#`\n",
    "- multi-line statements continued with backslash (`\\`)\n",
    "  - not required inside `{}`, `()`, or `[]` for data types"
   ]
  },
  {
   "cell_type": "code",
   "execution_count": 2,
   "metadata": {
    "nbpresent": {
     "id": "c877fdcc-02d6-490d-8ed3-89ffb2ec2510"
    }
   },
   "outputs": [],
   "source": [
    "# this is a comment\n",
    "a=1       # comments also can go after statements\n",
    "b=2; c=3  # here too\n",
    "\n",
    "# multiple line statement\n",
    "x = a + \\\n",
    "    b + c\n",
    "\n",
    "# backslash not needed when listing multi-line data\n",
    "y = [1, 2, \n",
    "     3, 4]"
   ]
  },
  {
   "cell_type": "markdown",
   "metadata": {
    "nbpresent": {
     "id": "2ca0e659-7160-4f94-a814-fb638f8d15c1"
    },
    "slideshow": {
     "slide_type": "slide"
    }
   },
   "source": [
    "# Identifiers and Variables\n",
    "- Identifiers\n",
    "  - same as in C\n",
    "- Naming convention:\n",
    "  - `ClassName` -- a class name\n",
    "  - `varName` -- other identifier\n",
    "  - `_privateVar` -- private identifier\n",
    "  - `__veryPrivate` -- strongly private identifier\n",
    "  - `__special__` -- language-defined special name"
   ]
  },
  {
   "cell_type": "markdown",
   "metadata": {
    "nbpresent": {
     "id": "fe0c9816-4173-4fcc-963f-8a54d7a6444b"
    },
    "slideshow": {
     "slide_type": "subslide"
    }
   },
   "source": [
    "- Variables\n",
    "  - no declaration needed\n",
    "  - no need for declaring data type (automatic type)\n",
    "  - need to assign to initialize\n",
    "    - use of uninitialized variable raises exception\n",
    "  - automatic garbage collection (reference counts)"
   ]
  },
  {
   "cell_type": "markdown",
   "metadata": {
    "nbpresent": {
     "id": "0803acdf-7416-47e1-9934-deca530c5f83"
    },
    "slideshow": {
     "slide_type": "slide"
    }
   },
   "source": [
    "# Basic Types\n",
    "- Integer number"
   ]
  },
  {
   "cell_type": "code",
   "execution_count": 3,
   "metadata": {
    "nbpresent": {
     "id": "f1e4d5e1-4d9c-4f6a-88fd-634ddc2705d9"
    }
   },
   "outputs": [
    {
     "data": {
      "text/plain": [
       "4"
      ]
     },
     "execution_count": 3,
     "metadata": {},
     "output_type": "execute_result"
    }
   ],
   "source": [
    "4\n",
    "int(4)"
   ]
  },
  {
   "cell_type": "markdown",
   "metadata": {
    "nbpresent": {
     "id": "8d9de2eb-62c0-4cae-9ff3-62228cb30ce4"
    }
   },
   "source": [
    "- Real number (float)"
   ]
  },
  {
   "cell_type": "code",
   "execution_count": 4,
   "metadata": {
    "nbpresent": {
     "id": "c878c0e8-2877-49a5-ae92-2018bab785b4"
    }
   },
   "outputs": [
    {
     "data": {
      "text/plain": [
       "4.0"
      ]
     },
     "execution_count": 4,
     "metadata": {},
     "output_type": "execute_result"
    }
   ],
   "source": [
    "4.0\n",
    "float(4)"
   ]
  },
  {
   "cell_type": "markdown",
   "metadata": {
    "nbpresent": {
     "id": "21bfb010-c1fb-431e-9e4e-61e776266cc7"
    },
    "slideshow": {
     "slide_type": "subslide"
    }
   },
   "source": [
    "- Boolean"
   ]
  },
  {
   "cell_type": "code",
   "execution_count": 5,
   "metadata": {
    "nbpresent": {
     "id": "b0db2453-6d64-45cb-9fb1-958f2198a1f8"
    }
   },
   "outputs": [
    {
     "data": {
      "text/plain": [
       "False"
      ]
     },
     "execution_count": 5,
     "metadata": {},
     "output_type": "execute_result"
    }
   ],
   "source": [
    "True\n",
    "False"
   ]
  },
  {
   "cell_type": "markdown",
   "metadata": {
    "nbpresent": {
     "id": "77f6a112-14b3-4d73-bbbc-86f12951d70f"
    },
    "slideshow": {
     "slide_type": "-"
    }
   },
   "source": [
    "- String literal"
   ]
  },
  {
   "cell_type": "code",
   "execution_count": 6,
   "metadata": {
    "nbpresent": {
     "id": "8388d2ae-4cd6-4604-affa-eaece86f105b"
    },
    "slideshow": {
     "slide_type": "-"
    }
   },
   "outputs": [
    {
     "data": {
      "text/plain": [
       "'raw string\\\\no escape chars'"
      ]
     },
     "execution_count": 6,
     "metadata": {},
     "output_type": "execute_result"
    }
   ],
   "source": [
    "\"a string\"\n",
    "'a string'\n",
    "\"concatenate \" \"two string literals\"\n",
    "\"\"\"this is a multi-line string.\n",
    "it keeps the newline.\"\"\"\n",
    "r'raw string\\no escape chars'"
   ]
  },
  {
   "cell_type": "markdown",
   "metadata": {
    "nbpresent": {
     "id": "f5b35869-7151-4c37-a794-bae65a7772d3"
    },
    "slideshow": {
     "slide_type": "slide"
    }
   },
   "source": [
    "# Lists\n",
    "- Lists can hold anything (even other lists)"
   ]
  },
  {
   "cell_type": "code",
   "execution_count": 7,
   "metadata": {
    "nbpresent": {
     "id": "e296d968-a1bc-4918-bd27-54bc95abb60c"
    }
   },
   "outputs": [
    {
     "name": "stdout",
     "output_type": "stream",
     "text": [
      "['abcd', 786, 2.23]\n"
     ]
    }
   ],
   "source": [
    "myList = ['abcd', 786, 2.23]\n",
    "print(myList)     # print the list"
   ]
  },
  {
   "cell_type": "code",
   "execution_count": 8,
   "metadata": {
    "nbpresent": {
     "id": "e0ec4b5d-2ef2-43b1-abce-c74c5b5b85cf"
    }
   },
   "outputs": [
    {
     "name": "stdout",
     "output_type": "stream",
     "text": [
      "abcd\n"
     ]
    }
   ],
   "source": [
    "print(myList[0])  # print the first element (0-indexed)"
   ]
  },
  {
   "cell_type": "markdown",
   "metadata": {
    "nbpresent": {
     "id": "3b37eaf2-0259-401b-9f70-e35b02584d02"
    },
    "slideshow": {
     "slide_type": "subslide"
    }
   },
   "source": [
    "- Creating lists of numbers"
   ]
  },
  {
   "cell_type": "code",
   "execution_count": 9,
   "metadata": {
    "nbpresent": {
     "id": "ced351c5-e975-4dc4-baf1-0f2797b10bda"
    }
   },
   "outputs": [
    {
     "name": "stdout",
     "output_type": "stream",
     "text": [
      "range(0, 5)\n",
      "[0, 1, 2, 3, 4]\n"
     ]
    }
   ],
   "source": [
    "a = range(5)   # list of numbers from 0 to 4\n",
    "print(a)\n",
    "print(list(a))"
   ]
  },
  {
   "cell_type": "code",
   "execution_count": 10,
   "metadata": {
    "nbpresent": {
     "id": "e6ab0834-8a60-45e1-a7eb-82883ef2dc21"
    }
   },
   "outputs": [
    {
     "name": "stdout",
     "output_type": "stream",
     "text": [
      "range(2, 12, 3)\n",
      "[2, 5, 8, 11]\n"
     ]
    }
   ],
   "source": [
    "b = range(2,12,3)  # numbers from 2 to 11, count by 3 \n",
    "print(b)\n",
    "print(list(b))"
   ]
  },
  {
   "cell_type": "markdown",
   "metadata": {
    "nbpresent": {
     "id": "e16edb24-8fc0-428a-b375-e8da2924f1e4"
    },
    "slideshow": {
     "slide_type": "subslide"
    }
   },
   "source": [
    "- append and pop "
   ]
  },
  {
   "cell_type": "code",
   "execution_count": 11,
   "metadata": {
    "nbpresent": {
     "id": "55935c8e-2f15-4988-a9af-fad692d86fed"
    }
   },
   "outputs": [
    {
     "name": "stdout",
     "output_type": "stream",
     "text": [
      "[0, 1, 2, 3, 4, 'blah']\n"
     ]
    }
   ],
   "source": [
    "a = list(range(0,5))\n",
    "a.append('blah')  # add item to end\n",
    "print(a)"
   ]
  },
  {
   "cell_type": "code",
   "execution_count": 12,
   "metadata": {
    "nbpresent": {
     "id": "2c0177ae-ddba-4d89-b811-28660cb67fb1"
    }
   },
   "outputs": [
    {
     "data": {
      "text/plain": [
       "'blah'"
      ]
     },
     "execution_count": 12,
     "metadata": {},
     "output_type": "execute_result"
    }
   ],
   "source": [
    "a.pop()  # remove last item and return it"
   ]
  },
  {
   "cell_type": "markdown",
   "metadata": {
    "nbpresent": {
     "id": "928c9baf-e028-4c40-bda6-52f0c81da497"
    },
    "slideshow": {
     "slide_type": "subslide"
    }
   },
   "source": [
    "- insert and delete"
   ]
  },
  {
   "cell_type": "code",
   "execution_count": 13,
   "metadata": {
    "nbpresent": {
     "id": "ae3bd829-e2f0-4fb6-a9cf-2cc75f405182"
    }
   },
   "outputs": [
    {
     "name": "stdout",
     "output_type": "stream",
     "text": [
      "[42, 0, 1, 2, 3, 4]\n"
     ]
    }
   ],
   "source": [
    "a.insert(0,42)  # insert 42 at index 0\n",
    "print(a)"
   ]
  },
  {
   "cell_type": "code",
   "execution_count": 14,
   "metadata": {
    "nbpresent": {
     "id": "b3e04302-4a5e-4534-a860-f11ba6f1bbdc"
    }
   },
   "outputs": [
    {
     "name": "stdout",
     "output_type": "stream",
     "text": [
      "[42, 0, 2, 3, 4]\n"
     ]
    }
   ],
   "source": [
    "del a[2]    # delete item 2\n",
    "print(a)"
   ]
  },
  {
   "cell_type": "markdown",
   "metadata": {
    "nbpresent": {
     "id": "4d11fa47-a4ca-43fb-ac9e-147afd2d031e"
    },
    "slideshow": {
     "slide_type": "subslide"
    }
   },
   "source": [
    "- more list operations"
   ]
  },
  {
   "cell_type": "code",
   "execution_count": 15,
   "metadata": {
    "nbpresent": {
     "id": "065b8795-67c0-4c0b-b3dd-e8ff6ad78f70"
    }
   },
   "outputs": [
    {
     "name": "stdout",
     "output_type": "stream",
     "text": [
      "[4, 3, 2, 0, 42]\n"
     ]
    }
   ],
   "source": [
    "a.reverse()   # reverse the entries\n",
    "print(a)"
   ]
  },
  {
   "cell_type": "code",
   "execution_count": 16,
   "metadata": {
    "nbpresent": {
     "id": "9e5fb161-71ae-4aa5-890d-fe2df3889554"
    }
   },
   "outputs": [
    {
     "name": "stdout",
     "output_type": "stream",
     "text": [
      "[0, 2, 3, 4, 42]\n"
     ]
    }
   ],
   "source": [
    "a.sort()     # sort the entries\n",
    "print(a)"
   ]
  },
  {
   "cell_type": "markdown",
   "metadata": {
    "nbpresent": {
     "id": "5fb3c8e7-8551-4e54-9536-990f7412de2b"
    },
    "slideshow": {
     "slide_type": "slide"
    }
   },
   "source": [
    "# Tuples\n",
    "- Similar to a list\n",
    "  - but immutable (read-only)\n",
    "  - cannot change the contents (like a string constant)"
   ]
  },
  {
   "cell_type": "code",
   "execution_count": 17,
   "metadata": {
    "nbpresent": {
     "id": "fac591d3-1a84-4749-8d5f-ff1b7a0b0c8e"
    }
   },
   "outputs": [
    {
     "name": "stdout",
     "output_type": "stream",
     "text": [
      "(1, 2, 'three')\n"
     ]
    }
   ],
   "source": [
    "# make some tuples\n",
    "x = (1,2,'three')\n",
    "print(x)"
   ]
  },
  {
   "cell_type": "code",
   "execution_count": 18,
   "metadata": {
    "nbpresent": {
     "id": "ce10d8c2-1b9f-4677-86ac-8991ff630066"
    }
   },
   "outputs": [
    {
     "name": "stdout",
     "output_type": "stream",
     "text": [
      "(4, 5, 6)\n"
     ]
    }
   ],
   "source": [
    "y = 4,5,6           # parentheses not needed!\n",
    "print(y)"
   ]
  },
  {
   "cell_type": "code",
   "execution_count": 19,
   "metadata": {
    "nbpresent": {
     "id": "6c9e7535-3603-46b7-9004-623df479bbd2"
    }
   },
   "outputs": [
    {
     "name": "stdout",
     "output_type": "stream",
     "text": [
      "(1,)\n"
     ]
    }
   ],
   "source": [
    "z = (1,)   # tuple with 1 element (the trailing comma is required)\n",
    "print(z)"
   ]
  },
  {
   "cell_type": "markdown",
   "metadata": {
    "nbpresent": {
     "id": "c2e311e1-256b-4ce9-9ea3-8f2551c27b88"
    },
    "slideshow": {
     "slide_type": "slide"
    }
   },
   "source": [
    "# Operators on sequences\n",
    "- _Same operators_ for strings, lists, and tuples\n",
    "- Slice a sublist with colon (`:`)\n",
    "  - **Note**: the 2nd argument is not inclusive!"
   ]
  },
  {
   "cell_type": "code",
   "execution_count": 20,
   "metadata": {
    "nbpresent": {
     "id": "7ea3ee9d-e1b6-4357-a913-8fdbfabe84c8"
    }
   },
   "outputs": [
    {
     "data": {
      "text/plain": [
       "'h'"
      ]
     },
     "execution_count": 20,
     "metadata": {},
     "output_type": "execute_result"
    }
   ],
   "source": [
    "\"hello\"[0]    # the first element"
   ]
  },
  {
   "cell_type": "code",
   "execution_count": 21,
   "metadata": {
    "nbpresent": {
     "id": "f53262d7-756f-495a-a690-872d0bc37276"
    }
   },
   "outputs": [
    {
     "data": {
      "text/plain": [
       "'o'"
      ]
     },
     "execution_count": 21,
     "metadata": {},
     "output_type": "execute_result"
    }
   ],
   "source": [
    "\"hello\"[-1]   # the last element (index from end)"
   ]
  },
  {
   "cell_type": "code",
   "execution_count": 22,
   "metadata": {
    "nbpresent": {
     "id": "84fe9242-fafc-4c1a-9653-4b9cd2c63a3b"
    },
    "slideshow": {
     "slide_type": "subslide"
    }
   },
   "outputs": [
    {
     "data": {
      "text/plain": [
       "'ell'"
      ]
     },
     "execution_count": 22,
     "metadata": {},
     "output_type": "execute_result"
    }
   ],
   "source": [
    "\"hello\"[1:4]  # the 2nd through 4th elements"
   ]
  },
  {
   "cell_type": "code",
   "execution_count": 23,
   "metadata": {
    "nbpresent": {
     "id": "0e916fd8-6d6d-467d-aeb1-de921150c693"
    }
   },
   "outputs": [
    {
     "data": {
      "text/plain": [
       "'llo'"
      ]
     },
     "execution_count": 23,
     "metadata": {},
     "output_type": "execute_result"
    }
   ],
   "source": [
    "\"hello\"[2:]   # the 3rd through last elements"
   ]
  },
  {
   "cell_type": "code",
   "execution_count": 24,
   "metadata": {
    "nbpresent": {
     "id": "b62add9e-91a0-45a7-94d6-d3e0c77abcf2"
    }
   },
   "outputs": [
    {
     "data": {
      "text/plain": [
       "'hlo'"
      ]
     },
     "execution_count": 24,
     "metadata": {},
     "output_type": "execute_result"
    }
   ],
   "source": [
    "\"hello\"[0:5:2] # indices 0,2,4 (by 2)"
   ]
  },
  {
   "cell_type": "markdown",
   "metadata": {
    "nbpresent": {
     "id": "606e1104-656a-472a-9438-1a018bf68315"
    },
    "slideshow": {
     "slide_type": "subslide"
    }
   },
   "source": [
    "- Other operators on string, list, tuple"
   ]
  },
  {
   "cell_type": "code",
   "execution_count": 25,
   "metadata": {
    "nbpresent": {
     "id": "1aef0205-be93-4fd1-a828-c3b0aa469ba7"
    }
   },
   "outputs": [
    {
     "data": {
      "text/plain": [
       "5"
      ]
     },
     "execution_count": 25,
     "metadata": {},
     "output_type": "execute_result"
    }
   ],
   "source": [
    "len(\"hello\")   # length"
   ]
  },
  {
   "cell_type": "code",
   "execution_count": 26,
   "metadata": {
    "nbpresent": {
     "id": "91dd829a-5ea2-4dcc-a2d2-b9b83e516c19"
    }
   },
   "outputs": [
    {
     "data": {
      "text/plain": [
       "'hello'"
      ]
     },
     "execution_count": 26,
     "metadata": {},
     "output_type": "execute_result"
    }
   ],
   "source": [
    "\"he\" + \"llo\"   # concatenation"
   ]
  },
  {
   "cell_type": "code",
   "execution_count": 27,
   "metadata": {
    "nbpresent": {
     "id": "c0f4d22c-02c2-4e7e-ac35-b48accc3499a"
    }
   },
   "outputs": [
    {
     "data": {
      "text/plain": [
       "'hellohellohello'"
      ]
     },
     "execution_count": 27,
     "metadata": {},
     "output_type": "execute_result"
    }
   ],
   "source": [
    "\"hello\"*3      # repetition"
   ]
  },
  {
   "cell_type": "markdown",
   "metadata": {
    "nbpresent": {
     "id": "a2c3e874-64ba-4261-a74e-568e3a973789"
    },
    "slideshow": {
     "slide_type": "slide"
    }
   },
   "source": [
    "# String methods\n",
    "- Useful methods"
   ]
  },
  {
   "cell_type": "code",
   "execution_count": 28,
   "metadata": {
    "nbpresent": {
     "id": "e99ac701-3677-49c4-ab8f-8b237bf269ef"
    }
   },
   "outputs": [
    {
     "data": {
      "text/plain": [
       "'abc'"
      ]
     },
     "execution_count": 28,
     "metadata": {},
     "output_type": "execute_result"
    }
   ],
   "source": [
    "\"112211\".count(\"11\")         # 2\n",
    "\"this.com\".endswith(\".com\")  # True\n",
    "\"wxyz\".startswith(\"wx\")      # True\n",
    "\"abc\".find(\"c\")              # finds first: 2\n",
    "\",\".join(['a', 'b', 'c'])    # join list: 'a,b,c'\n",
    "\"aba\".replace(\"a\", \"d\")      # replace all: \"dbd\"\n",
    "\"a,b,c\".split(',')           # make list: ['a', 'b', 'c']\n",
    "\"  abc    \".strip()          # \"abc\",  also rstrip(), lstrip()"
   ]
  },
  {
   "cell_type": "markdown",
   "metadata": {
    "nbpresent": {
     "id": "00953d64-06c3-4911-93d6-498dbdd13c3b"
    },
    "slideshow": {
     "slide_type": "subslide"
    }
   },
   "source": [
    "- String formatting: automatically fill in type"
   ]
  },
  {
   "cell_type": "code",
   "execution_count": 29,
   "metadata": {
    "nbpresent": {
     "id": "0d0372bd-eca2-48f1-9228-214c535835ef"
    }
   },
   "outputs": [
    {
     "data": {
      "text/plain": [
       "'string and 123 and 1.6789'"
      ]
     },
     "execution_count": 29,
     "metadata": {},
     "output_type": "execute_result"
    }
   ],
   "source": [
    "\"{} and {} and {}\".format('string', 123, 1.6789)"
   ]
  },
  {
   "cell_type": "markdown",
   "metadata": {
    "slideshow": {
     "slide_type": "-"
    }
   },
   "source": [
    "- String formatting: specify type (similar to C)"
   ]
  },
  {
   "cell_type": "code",
   "execution_count": 30,
   "metadata": {
    "slideshow": {
     "slide_type": "-"
    }
   },
   "outputs": [
    {
     "data": {
      "text/plain": [
       "'0 and 3.000000 and 1.23'"
      ]
     },
     "execution_count": 30,
     "metadata": {},
     "output_type": "execute_result"
    }
   ],
   "source": [
    "\"{:d} and {:f} and {:0.2f}\".format(False, 3, 1.234)"
   ]
  },
  {
   "cell_type": "markdown",
   "metadata": {
    "nbpresent": {
     "id": "e29517bb-755a-4fe3-9329-22993ecc2703"
    },
    "slideshow": {
     "slide_type": "slide"
    }
   },
   "source": [
    "# Dictionaries\n",
    "- Stores key-value pairs (associative array or hash table)\n",
    "  - key can be a string, number, or tuple"
   ]
  },
  {
   "cell_type": "code",
   "execution_count": 31,
   "metadata": {
    "nbpresent": {
     "id": "eb7d9d58-1488-4d38-b56d-b63ca1e96cd0"
    }
   },
   "outputs": [
    {
     "name": "stdout",
     "output_type": "stream",
     "text": [
      "{'name': 'john', 42: 'sales', ('hello', 'world'): 6734}\n"
     ]
    }
   ],
   "source": [
    "mydict = {'name': 'john', 42: 'sales', ('hello', 'world'): 6734}\n",
    "print(mydict)"
   ]
  },
  {
   "cell_type": "markdown",
   "metadata": {
    "nbpresent": {
     "id": "35bacbea-7299-4811-a5e4-7c903ec051e1"
    },
    "slideshow": {
     "slide_type": "subslide"
    }
   },
   "source": [
    "- Access"
   ]
  },
  {
   "cell_type": "code",
   "execution_count": 32,
   "metadata": {
    "nbpresent": {
     "id": "8283f155-53bc-4a56-ab2b-4087281ab4d1"
    }
   },
   "outputs": [
    {
     "name": "stdout",
     "output_type": "stream",
     "text": [
      "john\n"
     ]
    }
   ],
   "source": [
    "print(mydict['name'])         # get value for key 'name'"
   ]
  },
  {
   "cell_type": "code",
   "execution_count": 33,
   "metadata": {
    "nbpresent": {
     "id": "da122c7b-14b7-4465-979f-0baefe74cb39"
    }
   },
   "outputs": [
    {
     "name": "stdout",
     "output_type": "stream",
     "text": [
      "{'name': 'jon', 42: 'sales', ('hello', 'world'): 6734, 2: 5}\n"
     ]
    }
   ],
   "source": [
    "mydict['name'] = 'jon' # change value for key 'name'\n",
    "mydict[2] = 5          # insert a new key-value pair\n",
    "print(mydict)"
   ]
  },
  {
   "cell_type": "code",
   "execution_count": 34,
   "metadata": {
    "nbpresent": {
     "id": "abf0d9b1-9294-45f6-aa2c-3fe948755c00"
    }
   },
   "outputs": [
    {
     "name": "stdout",
     "output_type": "stream",
     "text": [
      "{'name': 'jon', 42: 'sales', ('hello', 'world'): 6734}\n"
     ]
    }
   ],
   "source": [
    "del mydict[2]          # delete entry for key 2\n",
    "print(mydict)"
   ]
  },
  {
   "cell_type": "markdown",
   "metadata": {
    "nbpresent": {
     "id": "81311521-a719-4e71-af61-08464e51383d"
    },
    "slideshow": {
     "slide_type": "subslide"
    }
   },
   "source": [
    "- Other operations:"
   ]
  },
  {
   "cell_type": "code",
   "execution_count": 35,
   "metadata": {
    "nbpresent": {
     "id": "eec89f16-852a-44d0-9e96-5d1ca8bad0a9"
    }
   },
   "outputs": [
    {
     "data": {
      "text/plain": [
       "dict_keys(['name', 42, ('hello', 'world')])"
      ]
     },
     "execution_count": 35,
     "metadata": {},
     "output_type": "execute_result"
    }
   ],
   "source": [
    "mydict.keys()           # iterator of all keys (no random access)"
   ]
  },
  {
   "cell_type": "code",
   "execution_count": 36,
   "metadata": {},
   "outputs": [
    {
     "data": {
      "text/plain": [
       "['name', 42, ('hello', 'world')]"
      ]
     },
     "execution_count": 36,
     "metadata": {},
     "output_type": "execute_result"
    }
   ],
   "source": [
    "list(mydict.keys())     # convert to a list for random access"
   ]
  },
  {
   "cell_type": "code",
   "execution_count": 37,
   "metadata": {
    "nbpresent": {
     "id": "1d1c960b-d13a-432b-9a06-b62da02e953d"
    }
   },
   "outputs": [
    {
     "data": {
      "text/plain": [
       "dict_values(['jon', 'sales', 6734])"
      ]
     },
     "execution_count": 37,
     "metadata": {},
     "output_type": "execute_result"
    }
   ],
   "source": [
    "mydict.values()         # iterator of all values"
   ]
  },
  {
   "cell_type": "code",
   "execution_count": 38,
   "metadata": {
    "nbpresent": {
     "id": "42df7608-e475-456e-adad-d464bf8282f4"
    }
   },
   "outputs": [
    {
     "data": {
      "text/plain": [
       "dict_items([('name', 'jon'), (42, 'sales'), (('hello', 'world'), 6734)])"
      ]
     },
     "execution_count": 38,
     "metadata": {},
     "output_type": "execute_result"
    }
   ],
   "source": [
    "mydict.items()          # iterator of tuples (key, value)"
   ]
  },
  {
   "cell_type": "code",
   "execution_count": 39,
   "metadata": {
    "nbpresent": {
     "id": "795054d6-e2a9-424d-b173-335e5eee3759"
    }
   },
   "outputs": [
    {
     "data": {
      "text/plain": [
       "True"
      ]
     },
     "execution_count": 39,
     "metadata": {},
     "output_type": "execute_result"
    }
   ],
   "source": [
    "'name' in mydict  # check the presence of a key  "
   ]
  },
  {
   "cell_type": "markdown",
   "metadata": {
    "nbpresent": {
     "id": "c6ec3bfd-d375-4a24-84c0-59463e5f99ad"
    },
    "slideshow": {
     "slide_type": "slide"
    }
   },
   "source": [
    "# Operators\n",
    "- Arithmetic: `+`, `-`, `*`, `/`, `%`, `**` (exponent), `//` (floor division)"
   ]
  },
  {
   "cell_type": "code",
   "execution_count": 40,
   "metadata": {
    "nbpresent": {
     "id": "d012aad1-1331-492d-ad0f-6e66c84d22c1"
    }
   },
   "outputs": [
    {
     "name": "stdout",
     "output_type": "stream",
     "text": [
      "1.5\n"
     ]
    }
   ],
   "source": [
    "print(6/4)     # float division"
   ]
  },
  {
   "cell_type": "code",
   "execution_count": 41,
   "metadata": {
    "nbpresent": {
     "id": "ef3be3a1-6a59-4982-8c67-5fa0302ce1c8"
    }
   },
   "outputs": [
    {
     "name": "stdout",
     "output_type": "stream",
     "text": [
      "1\n"
     ]
    }
   ],
   "source": [
    "print(6//4)   # integer division"
   ]
  },
  {
   "cell_type": "code",
   "execution_count": 42,
   "metadata": {
    "nbpresent": {
     "id": "bba2c329-7a88-4847-be0a-d77bde30eabe"
    }
   },
   "outputs": [
    {
     "name": "stdout",
     "output_type": "stream",
     "text": [
      "1.0\n"
     ]
    }
   ],
   "source": [
    "print(6//4.0)  # floor division"
   ]
  },
  {
   "cell_type": "markdown",
   "metadata": {
    "nbpresent": {
     "id": "fbdd4220-a3d6-435e-86a9-b7221d44b2c8"
    },
    "slideshow": {
     "slide_type": "subslide"
    }
   },
   "source": [
    "- Assignment: `=`, `+=`, `-=`, `/=`, `%=`, `**=`, `//=`\n",
    "- Equality: `==`, `!=`\n",
    "- Compare: `>`, `>=`, `<`, `<=`\n",
    "- Logical: `and`, `or`, `not`"
   ]
  },
  {
   "cell_type": "markdown",
   "metadata": {
    "nbpresent": {
     "id": "df9bc4cb-37a7-4287-9c52-e403769775f2"
    },
    "slideshow": {
     "slide_type": "subslide"
    }
   },
   "source": [
    "- Membership: `in`, `not in`"
   ]
  },
  {
   "cell_type": "code",
   "execution_count": 43,
   "metadata": {
    "nbpresent": {
     "id": "5afa3da2-0b4d-42cd-ba91-42780da781d2"
    }
   },
   "outputs": [
    {
     "data": {
      "text/plain": [
       "True"
      ]
     },
     "execution_count": 43,
     "metadata": {},
     "output_type": "execute_result"
    }
   ],
   "source": [
    "2 in [2, 3, 4]"
   ]
  },
  {
   "cell_type": "markdown",
   "metadata": {
    "nbpresent": {
     "id": "b49472d7-0b7e-47b6-b821-ce15a19504c3"
    },
    "slideshow": {
     "slide_type": "-"
    }
   },
   "source": [
    "- Identity: `is`, `is not`\n",
    "  - checks reference to the same object"
   ]
  },
  {
   "cell_type": "code",
   "execution_count": 44,
   "metadata": {
    "nbpresent": {
     "id": "6732a479-0a3c-493f-9d39-4df06dc9e064"
    }
   },
   "outputs": [
    {
     "data": {
      "text/plain": [
       "True"
      ]
     },
     "execution_count": 44,
     "metadata": {},
     "output_type": "execute_result"
    }
   ],
   "source": [
    "x = [1,2,3]\n",
    "y = x\n",
    "x is y    # same variable?"
   ]
  },
  {
   "cell_type": "code",
   "execution_count": 45,
   "metadata": {
    "nbpresent": {
     "id": "e3800180-4797-4e3d-87c2-9b0eb4aa6c3a"
    }
   },
   "outputs": [],
   "source": [
    "z = x[:]  # create a copy"
   ]
  },
  {
   "cell_type": "code",
   "execution_count": 46,
   "metadata": {
    "nbpresent": {
     "id": "11798825-1681-48bb-9211-955cb3d6f4ee"
    }
   },
   "outputs": [
    {
     "data": {
      "text/plain": [
       "False"
      ]
     },
     "execution_count": 46,
     "metadata": {},
     "output_type": "execute_result"
    }
   ],
   "source": [
    "z is x    # same variable?"
   ]
  },
  {
   "cell_type": "markdown",
   "metadata": {
    "nbpresent": {
     "id": "59aab903-507c-454e-8b1b-093ac8438c67"
    },
    "slideshow": {
     "slide_type": "subslide"
    }
   },
   "source": [
    "- Tuple packing and unpacking"
   ]
  },
  {
   "cell_type": "code",
   "execution_count": 47,
   "metadata": {
    "nbpresent": {
     "id": "e280d514-7299-41b9-b77d-0f3f021487c5"
    }
   },
   "outputs": [
    {
     "name": "stdout",
     "output_type": "stream",
     "text": [
      "1\n",
      "2\n",
      "3\n"
     ]
    }
   ],
   "source": [
    "point = (1,2,3)\n",
    "(x,y,z) = point\n",
    "print(x)\n",
    "print(y)\n",
    "print(z)"
   ]
  },
  {
   "cell_type": "markdown",
   "metadata": {
    "nbpresent": {
     "id": "c3a03a54-da14-4734-a0c8-b801073c279e"
    },
    "slideshow": {
     "slide_type": "slide"
    }
   },
   "source": [
    "# Sets\n",
    "- a set is a collection of unique items"
   ]
  },
  {
   "cell_type": "code",
   "execution_count": 48,
   "metadata": {
    "nbpresent": {
     "id": "76e968bd-af1a-46ac-abe1-c9acd878b5d9"
    }
   },
   "outputs": [
    {
     "data": {
      "text/plain": [
       "{1, 2, 4, 5}"
      ]
     },
     "execution_count": 48,
     "metadata": {},
     "output_type": "execute_result"
    }
   ],
   "source": [
    "a=[1, 2, 2, 2, 4, 5, 5]\n",
    "sA = set(a)\n",
    "sA"
   ]
  },
  {
   "cell_type": "markdown",
   "metadata": {
    "nbpresent": {
     "id": "041ad8ea-d699-441f-b764-2e985171905e"
    },
    "slideshow": {
     "slide_type": "subslide"
    }
   },
   "source": [
    "- set operations"
   ]
  },
  {
   "cell_type": "code",
   "execution_count": 49,
   "metadata": {
    "nbpresent": {
     "id": "f95c7406-5072-4dc9-ae3e-044b7b6c3816"
    }
   },
   "outputs": [
    {
     "name": "stdout",
     "output_type": "stream",
     "text": [
      "{1, 2}\n"
     ]
    }
   ],
   "source": [
    "sB = {4, 5, 6, 7}\n",
    "print(sA - sB)    # set difference"
   ]
  },
  {
   "cell_type": "code",
   "execution_count": 50,
   "metadata": {
    "nbpresent": {
     "id": "accb8dd0-e7f5-459d-93fd-dc59e0a28b66"
    }
   },
   "outputs": [
    {
     "name": "stdout",
     "output_type": "stream",
     "text": [
      "{1, 2, 4, 5, 6, 7}\n"
     ]
    }
   ],
   "source": [
    "print (sA | sB)    # set union"
   ]
  },
  {
   "cell_type": "code",
   "execution_count": 51,
   "metadata": {
    "nbpresent": {
     "id": "339cf0f4-028a-44bb-92f6-a3c879b0b440"
    }
   },
   "outputs": [
    {
     "name": "stdout",
     "output_type": "stream",
     "text": [
      "{4, 5}\n"
     ]
    }
   ],
   "source": [
    "print (sA & sB)    # set intersect"
   ]
  },
  {
   "cell_type": "markdown",
   "metadata": {
    "nbpresent": {
     "id": "4866fc0d-58c3-425a-a14d-47685de3d814"
    },
    "slideshow": {
     "slide_type": "slide"
    }
   },
   "source": [
    "# Outline\n",
    "1. Python Intro\n",
    "2. Python Basics (identifiers, types, operators)\n",
    "3. **Control structures (conditional and loops)**\n",
    "4. Functions, Classes\n",
    "5. File IO, Pickle, pandas\n",
    "6. NumPy\n",
    "7. matplotlib"
   ]
  },
  {
   "cell_type": "markdown",
   "metadata": {
    "nbpresent": {
     "id": "60205f62-58b5-4cdd-b0d8-fc03bee76c5c"
    },
    "slideshow": {
     "slide_type": "slide"
    }
   },
   "source": [
    "# Conditional Statements\n",
    "- indentation used for code blocks after colon (:)\n",
    "- if-elif-else statement"
   ]
  },
  {
   "cell_type": "code",
   "execution_count": 52,
   "metadata": {
    "nbpresent": {
     "id": "ff2ac899-c2e0-4136-9966-db105d250c6e"
    }
   },
   "outputs": [
    {
     "name": "stdout",
     "output_type": "stream",
     "text": [
      "baz\n"
     ]
    }
   ],
   "source": [
    "if x==2:\n",
    "    print(\"foo\")\n",
    "elif x==3:\n",
    "    print(\"bar\")\n",
    "else:\n",
    "    print(\"baz\")"
   ]
  },
  {
   "cell_type": "markdown",
   "metadata": {
    "nbpresent": {
     "id": "8a8cff6d-4838-461e-848f-01faba087468"
    },
    "slideshow": {
     "slide_type": "subslide"
    }
   },
   "source": [
    "- nested if"
   ]
  },
  {
   "cell_type": "code",
   "execution_count": 53,
   "metadata": {
    "nbpresent": {
     "id": "1fbe4e6b-a364-43dc-8cf6-73cb751b53e9"
    }
   },
   "outputs": [
    {
     "name": "stdout",
     "output_type": "stream",
     "text": [
      "baz\n"
     ]
    }
   ],
   "source": [
    "if x>1:\n",
    "    if x==2:\n",
    "        print(\"foo\")\n",
    "    else:\n",
    "        print(\"bar\")\n",
    "else:\n",
    "    print(\"baz\")"
   ]
  },
  {
   "cell_type": "markdown",
   "metadata": {
    "nbpresent": {
     "id": "fbed81e7-b6a0-47ff-a51f-1a6ff05aedfa"
    }
   },
   "source": [
    "- single-line"
   ]
  },
  {
   "cell_type": "code",
   "execution_count": 54,
   "metadata": {
    "nbpresent": {
     "id": "cde5f1b8-e900-49b5-a9b7-d04452f46a86"
    }
   },
   "outputs": [
    {
     "name": "stdout",
     "output_type": "stream",
     "text": [
      "blah\n"
     ]
    }
   ],
   "source": [
    "if x==1: print(\"blah\")"
   ]
  },
  {
   "cell_type": "markdown",
   "metadata": {
    "slideshow": {
     "slide_type": "subslide"
    }
   },
   "source": [
    "- check existence using \"if in\""
   ]
  },
  {
   "cell_type": "code",
   "execution_count": 55,
   "metadata": {},
   "outputs": [
    {
     "name": "stdout",
     "output_type": "stream",
     "text": [
      "mydict has name field\n"
     ]
    }
   ],
   "source": [
    "mydict = {'name': 'john', 42: 'sales'}\n",
    "if 'name' in mydict:\n",
    "    print(\"mydict has name field\")"
   ]
  },
  {
   "cell_type": "code",
   "execution_count": 56,
   "metadata": {},
   "outputs": [
    {
     "name": "stdout",
     "output_type": "stream",
     "text": [
      "str is inside\n"
     ]
    }
   ],
   "source": [
    "if 'str' in 'this is a long string':\n",
    "    print('str is inside')"
   ]
  },
  {
   "cell_type": "markdown",
   "metadata": {
    "nbpresent": {
     "id": "802fd791-7865-4e41-93b7-eb89d99a44e7"
    },
    "slideshow": {
     "slide_type": "slide"
    }
   },
   "source": [
    "# Loops\n",
    "- \"for-in\" loop over values in a list"
   ]
  },
  {
   "cell_type": "code",
   "execution_count": 57,
   "metadata": {
    "nbpresent": {
     "id": "05678006-0507-4e22-ada5-2c57cab03306"
    }
   },
   "outputs": [
    {
     "name": "stdout",
     "output_type": "stream",
     "text": [
      "1\n",
      "3\n",
      "5\n"
     ]
    }
   ],
   "source": [
    "ns = range(1,6,2)    # list of numbers from 1 to 6, by 2\n",
    "for n in ns:\n",
    "    print(n)"
   ]
  },
  {
   "cell_type": "markdown",
   "metadata": {
    "nbpresent": {
     "id": "6ce2902b-c882-4dea-8287-04d8dddd3d34"
    }
   },
   "source": [
    "- loop over index-value pairs"
   ]
  },
  {
   "cell_type": "code",
   "execution_count": 58,
   "metadata": {
    "nbpresent": {
     "id": "d69c9914-f150-4a42-8cd0-4fc1cc211775"
    }
   },
   "outputs": [
    {
     "name": "stdout",
     "output_type": "stream",
     "text": [
      "0 a\n",
      "1 b\n",
      "2 c\n"
     ]
    }
   ],
   "source": [
    "x = ['a', 'b', 'c']\n",
    "for i,n in enumerate(x):\n",
    "    print(i, n)"
   ]
  },
  {
   "cell_type": "markdown",
   "metadata": {
    "slideshow": {
     "slide_type": "subslide"
    }
   },
   "source": [
    "- looping over two lists at the same time"
   ]
  },
  {
   "cell_type": "code",
   "execution_count": 59,
   "metadata": {},
   "outputs": [
    {
     "name": "stdout",
     "output_type": "stream",
     "text": [
      "a A\n",
      "b B\n",
      "c C\n"
     ]
    }
   ],
   "source": [
    "x = ['a', 'b', 'c']\n",
    "y = ['A', 'B', 'C']\n",
    "for i,j in zip(x,y):\n",
    "    print(i,j)"
   ]
  },
  {
   "cell_type": "markdown",
   "metadata": {},
   "source": [
    "- `zip` creates pairs of items between the two lists\n",
    "  - (actually creates an iterator over them)"
   ]
  },
  {
   "cell_type": "code",
   "execution_count": 60,
   "metadata": {},
   "outputs": [
    {
     "data": {
      "text/plain": [
       "[('a', 'A'), ('b', 'B'), ('c', 'C')]"
      ]
     },
     "execution_count": 60,
     "metadata": {},
     "output_type": "execute_result"
    }
   ],
   "source": [
    "list(zip(x,y))    # convert to a list (for random access)"
   ]
  },
  {
   "cell_type": "markdown",
   "metadata": {
    "nbpresent": {
     "id": "8dd93e19-e37f-4fa5-8165-c5c004366dc1"
    },
    "slideshow": {
     "slide_type": "subslide"
    }
   },
   "source": [
    "- looping over dictionary"
   ]
  },
  {
   "cell_type": "code",
   "execution_count": 61,
   "metadata": {
    "nbpresent": {
     "id": "3b1d1626-b19e-4f66-8718-873ab8b62ea2"
    },
    "slideshow": {
     "slide_type": "-"
    }
   },
   "outputs": [
    {
     "name": "stdout",
     "output_type": "stream",
     "text": [
      "a 1\n",
      "b 2\n",
      "c 3\n"
     ]
    }
   ],
   "source": [
    "x = {'a':1, 'b':2, 'c':3}\n",
    "for (key,val) in x.items():\n",
    "    print(key, val)"
   ]
  },
  {
   "cell_type": "markdown",
   "metadata": {
    "nbpresent": {
     "id": "e4e9ce49-4bf7-4639-8a6c-58b310d79ee3"
    },
    "slideshow": {
     "slide_type": "subslide"
    }
   },
   "source": [
    "- while loop"
   ]
  },
  {
   "cell_type": "code",
   "execution_count": 62,
   "metadata": {
    "nbpresent": {
     "id": "d4f7fdcb-6bf5-4111-8691-6f31f91397ce"
    }
   },
   "outputs": [
    {
     "name": "stdout",
     "output_type": "stream",
     "text": [
      "5\n"
     ]
    }
   ],
   "source": [
    "x=0\n",
    "while x<5:\n",
    "    x += 1\n",
    "print(x)"
   ]
  },
  {
   "cell_type": "code",
   "execution_count": 63,
   "metadata": {
    "nbpresent": {
     "id": "9c88e0f8-a3ea-4978-88de-310f288823bb"
    }
   },
   "outputs": [
    {
     "name": "stdout",
     "output_type": "stream",
     "text": [
      "10\n"
     ]
    }
   ],
   "source": [
    "# single line\n",
    "while x<10: x += 1\n",
    "print(x)"
   ]
  },
  {
   "cell_type": "markdown",
   "metadata": {
    "nbpresent": {
     "id": "a8cdd230-b34c-4e92-bf62-c33c512f1d5a"
    },
    "slideshow": {
     "slide_type": "subslide"
    }
   },
   "source": [
    "- loop control (same as C)\n",
    "  - `break`, `continue`  \n",
    "- else clause\n",
    "  - runs after list is exhausted\n",
    "  - does _not_ run if loop break"
   ]
  },
  {
   "cell_type": "code",
   "execution_count": 64,
   "metadata": {
    "nbpresent": {
     "id": "64b3d61f-b518-45e6-a568-576700f86b83"
    }
   },
   "outputs": [
    {
     "name": "stdout",
     "output_type": "stream",
     "text": [
      "0\n",
      "1\n",
      "6\n",
      "end of list reached!\n"
     ]
    }
   ],
   "source": [
    "for i in [0, 1, 6]:\n",
    "    print(i)\n",
    "else:\n",
    "    print(\"end of list reached!\")"
   ]
  },
  {
   "cell_type": "markdown",
   "metadata": {
    "nbpresent": {
     "id": "2d69f784-daa1-405d-8b5c-346b312c96a6"
    },
    "slideshow": {
     "slide_type": "slide"
    }
   },
   "source": [
    "# List Comprehension\n",
    "- build a new list with a \"for\" loop"
   ]
  },
  {
   "cell_type": "code",
   "execution_count": 65,
   "metadata": {
    "nbpresent": {
     "id": "c085d931-fe08-4050-baf7-2b7f9db345df"
    }
   },
   "outputs": [
    {
     "data": {
      "text/plain": [
       "[4, 8, 8, 8, 16, 20, 20]"
      ]
     },
     "execution_count": 65,
     "metadata": {},
     "output_type": "execute_result"
    }
   ],
   "source": [
    "myList = [1, 2, 2, 2, 4, 5, 5]\n",
    "myList4 = [4*item for item in myList]   # multiply each item by 4\n",
    "myList4"
   ]
  },
  {
   "cell_type": "code",
   "execution_count": 66,
   "metadata": {
    "nbpresent": {
     "id": "ba9197f3-4db7-4cad-b510-4d4e5645ff2c"
    }
   },
   "outputs": [
    {
     "data": {
      "text/plain": [
       "[4, 8, 8, 8, 16, 20, 20]"
      ]
     },
     "execution_count": 66,
     "metadata": {},
     "output_type": "execute_result"
    }
   ],
   "source": [
    "# equivalent code\n",
    "myList4=[]\n",
    "for item in myList:\n",
    "    myList4.append(4*item)\n",
    "myList4"
   ]
  },
  {
   "cell_type": "code",
   "execution_count": 67,
   "metadata": {
    "nbpresent": {
     "id": "701eebde-f3a6-4a33-93eb-e85fb41d5e27"
    }
   },
   "outputs": [
    {
     "data": {
      "text/plain": [
       "[64, 80, 80]"
      ]
     },
     "execution_count": 67,
     "metadata": {},
     "output_type": "execute_result"
    }
   ],
   "source": [
    "# can also use conditional to select items\n",
    "[4*item*4 for item in myList if item>2]"
   ]
  },
  {
   "cell_type": "markdown",
   "metadata": {
    "nbpresent": {
     "id": "2a8d351c-7714-44e6-ad1d-6ac617656511"
    },
    "slideshow": {
     "slide_type": "slide"
    }
   },
   "source": [
    "# Outline\n",
    "1. Python Intro\n",
    "2. Python Basics (identifiers, types, operators)\n",
    "3. Control structures (conditional and loops)\n",
    "4. **Functions, Classes**\n",
    "5. File IO, Pickle, pandas\n",
    "6. NumPy\n",
    "7. matplotlib"
   ]
  },
  {
   "cell_type": "markdown",
   "metadata": {
    "nbpresent": {
     "id": "90c043d8-86a2-43bc-a0f3-ca4488b32b7b"
    },
    "slideshow": {
     "slide_type": "slide"
    }
   },
   "source": [
    "# Functions\n",
    "- Defining a function\n",
    "  - _required_ and _optional_ inputs (similar to C++)\n",
    "  - \"docstring\" for optional documentation"
   ]
  },
  {
   "cell_type": "code",
   "execution_count": 68,
   "metadata": {
    "nbpresent": {
     "id": "08ed0fc3-df45-4b92-ae12-192fd0003038"
    }
   },
   "outputs": [],
   "source": [
    "def sum3(a, b=1, c=2):\n",
    "    \"sum a few values\"\n",
    "    mysum = a+b+c\n",
    "    return mysum"
   ]
  },
  {
   "cell_type": "markdown",
   "metadata": {
    "nbpresent": {
     "id": "a990e3de-031a-4b7e-9a39-fd1b8e5feff4"
    },
    "slideshow": {
     "slide_type": "subslide"
    }
   },
   "source": [
    "- Calling a function"
   ]
  },
  {
   "cell_type": "code",
   "execution_count": 69,
   "metadata": {
    "nbpresent": {
     "id": "dd80d0d4-cc4c-4715-bd59-1ae0c2a90e10"
    }
   },
   "outputs": [
    {
     "data": {
      "text/plain": [
       "9"
      ]
     },
     "execution_count": 69,
     "metadata": {},
     "output_type": "execute_result"
    }
   ],
   "source": [
    "sum3(2,3,4)   # call function: 2+3+4"
   ]
  },
  {
   "cell_type": "code",
   "execution_count": 70,
   "metadata": {
    "nbpresent": {
     "id": "346dff29-a9c0-4621-91d6-5b6e2207cbac"
    }
   },
   "outputs": [
    {
     "data": {
      "text/plain": [
       "3"
      ]
     },
     "execution_count": 70,
     "metadata": {},
     "output_type": "execute_result"
    }
   ],
   "source": [
    "sum3(0)    # use default inputs: 0+1+2"
   ]
  },
  {
   "cell_type": "code",
   "execution_count": 71,
   "metadata": {
    "nbpresent": {
     "id": "02d5c175-32e2-4f03-a094-4246ce20d58c"
    },
    "slideshow": {
     "slide_type": "-"
    }
   },
   "outputs": [
    {
     "data": {
      "text/plain": [
       "8"
      ]
     },
     "execution_count": 71,
     "metadata": {},
     "output_type": "execute_result"
    }
   ],
   "source": [
    "sum3(b=1, a=5, c=2)  # use keyword arguments: 5+1+2"
   ]
  },
  {
   "cell_type": "code",
   "execution_count": 72,
   "metadata": {
    "nbpresent": {
     "id": "9c7b703f-881b-49f4-8962-8c6198e20f97"
    },
    "slideshow": {
     "slide_type": "subslide"
    }
   },
   "outputs": [
    {
     "name": "stdout",
     "output_type": "stream",
     "text": [
      "Help on function sum3 in module __main__:\n",
      "\n",
      "sum3(a, b=1, c=2)\n",
      "    sum a few values\n",
      "\n"
     ]
    }
   ],
   "source": [
    "help(sum3)   # show documentation"
   ]
  },
  {
   "cell_type": "code",
   "execution_count": 73,
   "metadata": {
    "nbpresent": {
     "id": "e3bd2f31-7256-4d16-80a8-7e81b556ce68"
    }
   },
   "outputs": [],
   "source": [
    "# ipython magic -- shows a help window about the function\n",
    "? sum3        "
   ]
  },
  {
   "cell_type": "markdown",
   "metadata": {
    "nbpresent": {
     "id": "b7b5a998-fcee-41cb-8e1d-88b178b4ed0a"
    },
    "slideshow": {
     "slide_type": "slide"
    }
   },
   "source": [
    "# Classes\n",
    "- Defining a class\n",
    "  - `self` is a reference to the object instance (passed _implicitly_)"
   ]
  },
  {
   "cell_type": "code",
   "execution_count": 74,
   "metadata": {
    "nbpresent": {
     "id": "1d462833-a66b-476d-8511-497fa8b21e8d"
    }
   },
   "outputs": [],
   "source": [
    "class MyList:\n",
    "    \"class documentation string\"\n",
    "    num = 0                  # a class variable\n",
    "    def  __init__(self, b):  # constructor\n",
    "        self.x = [b]         # an instance variable\n",
    "        MyList.num += 1      # modify class variable\n",
    "    def appendx(self, b):    # a class method\n",
    "        self.x.append(b)     # modify an instance variable\n",
    "        self.app = 1         # create new instance variable"
   ]
  },
  {
   "cell_type": "markdown",
   "metadata": {
    "nbpresent": {
     "id": "8db5101a-aa47-4fa1-a686-30bd1a162fe2"
    },
    "slideshow": {
     "slide_type": "subslide"
    }
   },
   "source": [
    "- Using the class"
   ]
  },
  {
   "cell_type": "code",
   "execution_count": 75,
   "metadata": {
    "nbpresent": {
     "id": "d181a874-0d4d-4ca1-ad8b-191357500812"
    }
   },
   "outputs": [
    {
     "name": "stdout",
     "output_type": "stream",
     "text": [
      "[0]\n"
     ]
    }
   ],
   "source": [
    "c = MyList(0)         # create an instance of MyList\n",
    "print(c.x)"
   ]
  },
  {
   "cell_type": "code",
   "execution_count": 76,
   "metadata": {
    "nbpresent": {
     "id": "5b986a72-cd37-449e-b93a-32aea4d64783"
    }
   },
   "outputs": [
    {
     "name": "stdout",
     "output_type": "stream",
     "text": [
      "[0, 1]\n"
     ]
    }
   ],
   "source": [
    "c.appendx(1)          # c.x = [0, 1]\n",
    "print(c.x)"
   ]
  },
  {
   "cell_type": "code",
   "execution_count": 77,
   "metadata": {
    "nbpresent": {
     "id": "ed9b3533-4c05-42d0-9080-7abe3e0ef8c4"
    }
   },
   "outputs": [
    {
     "name": "stdout",
     "output_type": "stream",
     "text": [
      "[0, 1, 2]\n"
     ]
    }
   ],
   "source": [
    "c.appendx(2)          # c.x = [0, 1, 2]\n",
    "print(c.x)"
   ]
  },
  {
   "cell_type": "code",
   "execution_count": 78,
   "metadata": {
    "nbpresent": {
     "id": "76fce247-bf95-43ee-9a84-77b7af99baa1"
    }
   },
   "outputs": [
    {
     "name": "stdout",
     "output_type": "stream",
     "text": [
      "1\n"
     ]
    }
   ],
   "source": [
    "print(MyList.num)      # access class variable (same as c.num)"
   ]
  },
  {
   "cell_type": "markdown",
   "metadata": {
    "nbpresent": {
     "id": "4b2c2b21-908b-4064-80f4-9b9e39ccd4ee"
    },
    "slideshow": {
     "slide_type": "slide"
    }
   },
   "source": [
    "# More on Classes\n",
    "- There are _no_ \"private\" members\n",
    "  - everything is accessible\n",
    "  - convention to indicate _private_:\n",
    "    - `_variable` means private method or variable (but still accessible)\n",
    "  - convention for _very private_:\n",
    "    - `__variable` is not directly visible\n",
    "    - actually it is renamed to `_classname__variable`"
   ]
  },
  {
   "cell_type": "markdown",
   "metadata": {
    "nbpresent": {
     "id": "a3421974-478a-4dce-81d8-09bc3a94616a"
    },
    "slideshow": {
     "slide_type": "subslide"
    }
   },
   "source": [
    "- Instance variable rules\n",
    "  - On _use_ via instance (`self.x`), scope search order is:\n",
    "    - (1) instance, (2) class, (3) base classes\n",
    "    - also the same for method lookup\n",
    "  - On _assignment_ via instance (`self.x=...`):\n",
    "    - always makes an instance variable\n",
    "  - Class variables \"default\" for instance variables\n",
    "    - _class_ variable: one copy _shared_ by all\n",
    "    - _instance_ variable: each instance has its own"
   ]
  },
  {
   "cell_type": "markdown",
   "metadata": {
    "nbpresent": {
     "id": "abf31b03-8887-47a4-a129-a1285ecdf276"
    },
    "slideshow": {
     "slide_type": "slide"
    }
   },
   "source": [
    "# Inheritence\n",
    "- Child class inherits attributes from parents"
   ]
  },
  {
   "cell_type": "code",
   "execution_count": 79,
   "metadata": {
    "nbpresent": {
     "id": "42e06087-bde9-45de-88d7-18df4e5752ac"
    }
   },
   "outputs": [],
   "source": [
    "class MyListAll(MyList): \n",
    "    def __init__(self, a):   # overrides MyList\n",
    "        self.allx = [a]\n",
    "        MyList.__init__(self, a)   # call base class constructor\n",
    "    def popx(self):\n",
    "        return self.x.pop()\n",
    "    def appendx(self, a):          # overrides MyList\n",
    "        self.allx.append(a)\n",
    "        MyList.appendx(self, a)    # \"super\" method call"
   ]
  },
  {
   "cell_type": "markdown",
   "metadata": {
    "nbpresent": {
     "id": "3fe8a0a2-ace2-4f27-bf36-312fc135551c"
    }
   },
   "source": [
    "- Multiple inheritence\n",
    "  - `class ChildClass(Parent1, Parent2, ...)`\n",
    "  - calling method in parent\n",
    "    - `super(ChildClass, self).method(args)`"
   ]
  },
  {
   "cell_type": "markdown",
   "metadata": {
    "nbpresent": {
     "id": "b78a4fe9-83d8-4fbf-9218-dba268bd0bf7"
    },
    "slideshow": {
     "slide_type": "slide"
    }
   },
   "source": [
    "# Class methods & Built-in Attributes\n",
    "- Useful methods to override in class"
   ]
  },
  {
   "cell_type": "code",
   "execution_count": 80,
   "metadata": {
    "nbpresent": {
     "id": "5db964f2-6c49-4df1-b4fb-0e3bea7c9259"
    }
   },
   "outputs": [],
   "source": [
    "class MyList2:\n",
    "    ...\n",
    "    def __str__(self):     # string representation\n",
    "        ...\n",
    "    def __cmp__(self, x):  # object comparison\n",
    "        ...\n",
    "    def __del__(self):     # destructor\n",
    "        ..."
   ]
  },
  {
   "cell_type": "markdown",
   "metadata": {
    "nbpresent": {
     "id": "ce0755ef-ac6f-4d93-bafa-2ec883c8f079"
    },
    "slideshow": {
     "slide_type": "subslide"
    }
   },
   "source": [
    "- Built-in attributes"
   ]
  },
  {
   "cell_type": "code",
   "execution_count": 81,
   "metadata": {
    "nbpresent": {
     "id": "64eed74a-f8b9-4707-89c6-39f5ab65849d"
    }
   },
   "outputs": [
    {
     "name": "stdout",
     "output_type": "stream",
     "text": [
      "{'x': [0, 1, 2], 'app': 1}\n",
      "class documentation string\n",
      "__main__\n"
     ]
    }
   ],
   "source": [
    "print(c.__dict__)    # Dictionary with the namespace.\n",
    "print(c.__doc__)     # Class documentation string\n",
    "print(c.__module__)  # Module which defines the class"
   ]
  },
  {
   "cell_type": "code",
   "execution_count": 82,
   "metadata": {
    "nbpresent": {
     "id": "22ac56bb-dde6-44c3-a351-0f9bbf9c1dc1"
    }
   },
   "outputs": [
    {
     "name": "stdout",
     "output_type": "stream",
     "text": [
      "MyList\n",
      "(<class 'object'>,)\n"
     ]
    }
   ],
   "source": [
    "print(MyList.__name__)    # Class name\n",
    "print(MyList.__bases__)   # tuple of base classes"
   ]
  },
  {
   "cell_type": "markdown",
   "metadata": {
    "nbpresent": {
     "id": "4033808f-0270-4333-97d8-4d0b4c724760"
    },
    "slideshow": {
     "slide_type": "slide"
    }
   },
   "source": [
    "# Outline\n",
    "1. Python Intro\n",
    "2. Python Basics (identifiers, types, operators)\n",
    "3. Control structures (conditional and loops)\n",
    "4. Functions, Classes\n",
    "5. **File IO, Pickle, pandas**\n",
    "6. NumPy\n",
    "7. matplotlib"
   ]
  },
  {
   "cell_type": "markdown",
   "metadata": {
    "nbpresent": {
     "id": "247ac64c-3ab3-4207-93a5-76e0c0e786cb"
    },
    "slideshow": {
     "slide_type": "slide"
    }
   },
   "source": [
    "# File I/O\n",
    "- Write a file"
   ]
  },
  {
   "cell_type": "code",
   "execution_count": 83,
   "metadata": {
    "nbpresent": {
     "id": "02dc9815-1da6-4ca4-9c0b-76fdccedbaae"
    }
   },
   "outputs": [],
   "source": [
    "with open(\"myfile.txt\", \"w\") as f:\n",
    "    f.write(\"blah\\n\")\n",
    "    f.writelines(['line1\\n', 'line2\\n', 'line3\\n'])\n",
    "\n",
    "# NOTE: using \"with\" will automatically close the file"
   ]
  },
  {
   "cell_type": "markdown",
   "metadata": {
    "nbpresent": {
     "id": "3c866bee-7f96-4e8f-bcc9-2094bbe7c4af"
    }
   },
   "source": [
    "- Read a whole file"
   ]
  },
  {
   "cell_type": "code",
   "execution_count": 84,
   "metadata": {
    "nbpresent": {
     "id": "ea500475-cef5-480a-b977-156c377f5541"
    }
   },
   "outputs": [
    {
     "name": "stdout",
     "output_type": "stream",
     "text": [
      "blah\n",
      "line1\n",
      "line2\n",
      "line3\n",
      "\n"
     ]
    }
   ],
   "source": [
    "with open(\"myfile.txt\", \"r\") as f:\n",
    "    contents = f.read()   # read the whole file as a string\n",
    "    print(contents)"
   ]
  },
  {
   "cell_type": "markdown",
   "metadata": {
    "nbpresent": {
     "id": "fc49911f-7af9-4580-9c63-3e51995be887"
    },
    "slideshow": {
     "slide_type": "subslide"
    }
   },
   "source": [
    "- Read line or remaining lines"
   ]
  },
  {
   "cell_type": "code",
   "execution_count": 85,
   "metadata": {
    "nbpresent": {
     "id": "1e508f8b-ce81-40a7-8644-6faeaaccf1e5"
    }
   },
   "outputs": [
    {
     "name": "stdout",
     "output_type": "stream",
     "text": [
      "blah\n",
      "\n"
     ]
    }
   ],
   "source": [
    "f = open(\"myfile.txt\", 'r')\n",
    "print(f.readline())    # read a single line."
   ]
  },
  {
   "cell_type": "code",
   "execution_count": 86,
   "metadata": {
    "nbpresent": {
     "id": "1b0f3427-a01c-49e8-800f-ee5bf31b6136"
    }
   },
   "outputs": [
    {
     "name": "stdout",
     "output_type": "stream",
     "text": [
      "['line1\\n', 'line2\\n', 'line3\\n']\n"
     ]
    }
   ],
   "source": [
    "print(f.readlines())   # read remaining lines in a list.\n",
    "f.close()"
   ]
  },
  {
   "cell_type": "markdown",
   "metadata": {
    "slideshow": {
     "slide_type": "subslide"
    }
   },
   "source": [
    "- Read line by line with a loop"
   ]
  },
  {
   "cell_type": "code",
   "execution_count": 87,
   "metadata": {},
   "outputs": [
    {
     "name": "stdout",
     "output_type": "stream",
     "text": [
      "blah\n",
      "\n",
      "line1\n",
      "\n",
      "line2\n",
      "\n",
      "line3\n",
      "\n"
     ]
    }
   ],
   "source": [
    "with open(\"myfile.txt\", 'r') as f:\n",
    "    for line in f:\n",
    "        print(line)    # still contains newline char"
   ]
  },
  {
   "cell_type": "markdown",
   "metadata": {
    "nbpresent": {
     "id": "32a3f3f8-c733-4a10-a369-d629e6663ec2"
    },
    "slideshow": {
     "slide_type": "slide"
    }
   },
   "source": [
    "# Saving Objects with Pickle\n",
    "- Turns almost **any** Python **object** into a string representation for saving into a file."
   ]
  },
  {
   "cell_type": "code",
   "execution_count": 88,
   "metadata": {
    "nbpresent": {
     "id": "f364c721-c4f1-43e1-8fdf-e388d0f46f8c"
    }
   },
   "outputs": [],
   "source": [
    "import pickle                     # load the pickle library\n",
    "mylist = MyList(0)                # an object\n",
    "# open file to save object (write bytes)\n",
    "with open('alist.pickle', 'wb') as file: \n",
    "    pickle.dump(mylist, file)         # save the object using pickle"
   ]
  },
  {
   "cell_type": "markdown",
   "metadata": {
    "nbpresent": {
     "id": "6bb1a4e8-c26c-4670-bd51-0cd4a5f5e8f7"
    },
    "slideshow": {
     "slide_type": "subslide"
    }
   },
   "source": [
    "- Load object from file"
   ]
  },
  {
   "cell_type": "code",
   "execution_count": 89,
   "metadata": {
    "nbpresent": {
     "id": "a0876574-d217-434b-8429-b54a63f77244"
    }
   },
   "outputs": [
    {
     "name": "stdout",
     "output_type": "stream",
     "text": [
      "<__main__.MyList object at 0x7fa84032a510>\n",
      "[0]\n"
     ]
    }
   ],
   "source": [
    "with open('alist.pickle', 'rb') as file:  # (read bytes)\n",
    "    mylist2 = pickle.load(file)       # load pickled object from file\n",
    "print(mylist2)\n",
    "print(mylist2.x)"
   ]
  },
  {
   "cell_type": "markdown",
   "metadata": {
    "nbpresent": {
     "id": "4a8a91c8-835a-4a9d-a662-4f20cc24d88d"
    }
   },
   "source": [
    "- cPickle is a faster version (1,000 times faster!)"
   ]
  },
  {
   "cell_type": "markdown",
   "metadata": {
    "nbpresent": {
     "id": "28320f1f-753a-411b-a552-3a859b77589c"
    },
    "slideshow": {
     "slide_type": "slide"
    }
   },
   "source": [
    "# Exception Handling\n",
    "- Catching an exception\n",
    "  - `except` block catches exceptions\n",
    "  - `else` block executes if no exception occurs\n",
    "  - `finally` block always executes at end"
   ]
  },
  {
   "cell_type": "code",
   "execution_count": 90,
   "metadata": {
    "nbpresent": {
     "id": "8002ea8c-9cd3-4542-8d5f-05ff5b644709"
    }
   },
   "outputs": [
    {
     "name": "stdout",
     "output_type": "stream",
     "text": [
      "No file!\n",
      "Bye!\n"
     ]
    }
   ],
   "source": [
    "try:\n",
    "    file = open('blah.pickle', 'r')\n",
    "    blah = pickle.load(file)\n",
    "    file.close()\n",
    "except:               # catch everything\n",
    "    print(\"No file!\")\n",
    "else:                 # executes if no exception occurred\n",
    "    print(\"No exception!\")\n",
    "finally:\n",
    "    print(\"Bye!\")      # always executes"
   ]
  },
  {
   "cell_type": "markdown",
   "metadata": {
    "slideshow": {
     "slide_type": "slide"
    }
   },
   "source": [
    "# pandas\n",
    "- pandas is a Python library for data wrangling and analysis.\n",
    "- `Dataframe` is a table of entries (like an Excel spreadsheet).\n",
    "  - each column does not need to be the same type\n",
    "  - operations to modify and operate on the table"
   ]
  },
  {
   "cell_type": "code",
   "execution_count": 91,
   "metadata": {},
   "outputs": [],
   "source": [
    "# setup pandas and display\n",
    "import pandas as pd"
   ]
  },
  {
   "cell_type": "code",
   "execution_count": 92,
   "metadata": {
    "slideshow": {
     "slide_type": "subslide"
    }
   },
   "outputs": [
    {
     "data": {
      "text/html": [
       "<div>\n",
       "<style scoped>\n",
       "    .dataframe tbody tr th:only-of-type {\n",
       "        vertical-align: middle;\n",
       "    }\n",
       "\n",
       "    .dataframe tbody tr th {\n",
       "        vertical-align: top;\n",
       "    }\n",
       "\n",
       "    .dataframe thead th {\n",
       "        text-align: right;\n",
       "    }\n",
       "</style>\n",
       "<table border=\"1\" class=\"dataframe\">\n",
       "  <thead>\n",
       "    <tr style=\"text-align: right;\">\n",
       "      <th></th>\n",
       "      <th>Name</th>\n",
       "      <th>Location</th>\n",
       "      <th>Age</th>\n",
       "    </tr>\n",
       "  </thead>\n",
       "  <tbody>\n",
       "    <tr>\n",
       "      <td>0</td>\n",
       "      <td>John</td>\n",
       "      <td>New York</td>\n",
       "      <td>24</td>\n",
       "    </tr>\n",
       "    <tr>\n",
       "      <td>1</td>\n",
       "      <td>Anna</td>\n",
       "      <td>Paris</td>\n",
       "      <td>13</td>\n",
       "    </tr>\n",
       "    <tr>\n",
       "      <td>2</td>\n",
       "      <td>Peter</td>\n",
       "      <td>Berlin</td>\n",
       "      <td>53</td>\n",
       "    </tr>\n",
       "    <tr>\n",
       "      <td>3</td>\n",
       "      <td>Linda</td>\n",
       "      <td>London</td>\n",
       "      <td>33</td>\n",
       "    </tr>\n",
       "  </tbody>\n",
       "</table>\n",
       "</div>"
      ],
      "text/plain": [
       "    Name  Location  Age\n",
       "0   John  New York   24\n",
       "1   Anna     Paris   13\n",
       "2  Peter    Berlin   53\n",
       "3  Linda    London   33"
      ]
     },
     "execution_count": 92,
     "metadata": {},
     "output_type": "execute_result"
    }
   ],
   "source": [
    "# read CSV file\n",
    "df = pd.read_csv('mycsv.csv')\n",
    "\n",
    "# print the dataframe\n",
    "df"
   ]
  },
  {
   "cell_type": "markdown",
   "metadata": {
    "slideshow": {
     "slide_type": "subslide"
    }
   },
   "source": [
    "- select a column"
   ]
  },
  {
   "cell_type": "code",
   "execution_count": 93,
   "metadata": {},
   "outputs": [
    {
     "data": {
      "text/plain": [
       "0     John\n",
       "1     Anna\n",
       "2    Peter\n",
       "3    Linda\n",
       "Name: Name, dtype: object"
      ]
     },
     "execution_count": 93,
     "metadata": {},
     "output_type": "execute_result"
    }
   ],
   "source": [
    "df['Name']"
   ]
  },
  {
   "cell_type": "markdown",
   "metadata": {
    "slideshow": {
     "slide_type": "subslide"
    }
   },
   "source": [
    "- query the table"
   ]
  },
  {
   "cell_type": "code",
   "execution_count": 94,
   "metadata": {
    "scrolled": false
   },
   "outputs": [
    {
     "data": {
      "text/html": [
       "<div>\n",
       "<style scoped>\n",
       "    .dataframe tbody tr th:only-of-type {\n",
       "        vertical-align: middle;\n",
       "    }\n",
       "\n",
       "    .dataframe tbody tr th {\n",
       "        vertical-align: top;\n",
       "    }\n",
       "\n",
       "    .dataframe thead th {\n",
       "        text-align: right;\n",
       "    }\n",
       "</style>\n",
       "<table border=\"1\" class=\"dataframe\">\n",
       "  <thead>\n",
       "    <tr style=\"text-align: right;\">\n",
       "      <th></th>\n",
       "      <th>Name</th>\n",
       "      <th>Location</th>\n",
       "      <th>Age</th>\n",
       "    </tr>\n",
       "  </thead>\n",
       "  <tbody>\n",
       "    <tr>\n",
       "      <td>2</td>\n",
       "      <td>Peter</td>\n",
       "      <td>Berlin</td>\n",
       "      <td>53</td>\n",
       "    </tr>\n",
       "    <tr>\n",
       "      <td>3</td>\n",
       "      <td>Linda</td>\n",
       "      <td>London</td>\n",
       "      <td>33</td>\n",
       "    </tr>\n",
       "  </tbody>\n",
       "</table>\n",
       "</div>"
      ],
      "text/plain": [
       "    Name Location  Age\n",
       "2  Peter   Berlin   53\n",
       "3  Linda   London   33"
      ]
     },
     "execution_count": 94,
     "metadata": {},
     "output_type": "execute_result"
    }
   ],
   "source": [
    "# select Age greater than 30\n",
    "df[df.Age > 30]"
   ]
  },
  {
   "cell_type": "markdown",
   "metadata": {},
   "source": [
    "- compute statistics "
   ]
  },
  {
   "cell_type": "code",
   "execution_count": 95,
   "metadata": {},
   "outputs": [
    {
     "data": {
      "text/plain": [
       "Age    30.75\n",
       "dtype: float64"
      ]
     },
     "execution_count": 95,
     "metadata": {},
     "output_type": "execute_result"
    }
   ],
   "source": [
    "df.mean()"
   ]
  },
  {
   "cell_type": "markdown",
   "metadata": {
    "nbpresent": {
     "id": "7f104fa2-b3cb-4320-9dfd-c0bf8a5abec3"
    },
    "slideshow": {
     "slide_type": "slide"
    }
   },
   "source": [
    "# Outline\n",
    "1. Python Intro\n",
    "2. Python Basics (identifiers, types, operators)\n",
    "3. Control structures (conditional and loops)\n",
    "4. Functions, Classes\n",
    "5. File IO, Pickle, pandas\n",
    "6. **NumPy**\n",
    "7. matplotlib"
   ]
  },
  {
   "cell_type": "markdown",
   "metadata": {
    "collapsed": true,
    "nbpresent": {
     "id": "b2585e5d-a594-4000-8f7a-9fc1d413f08d"
    },
    "slideshow": {
     "slide_type": "slide"
    }
   },
   "source": [
    "# NumPy\n",
    "- Library for multidimensional arrays and 2D matrices\n",
    "- `ndarray` class for multidimensional arrays\n",
    "  - elements are all the same type\n",
    "  - aliased to `array`"
   ]
  },
  {
   "cell_type": "code",
   "execution_count": 96,
   "metadata": {
    "nbpresent": {
     "id": "1027e5a0-5fcd-46f0-800a-7d2d444551be"
    },
    "slideshow": {
     "slide_type": "-"
    }
   },
   "outputs": [
    {
     "data": {
      "text/plain": [
       "array([ 0,  1,  2,  3,  4,  5,  6,  7,  8,  9, 10, 11, 12, 13, 14])"
      ]
     },
     "execution_count": 96,
     "metadata": {},
     "output_type": "execute_result"
    }
   ],
   "source": [
    "from numpy import *     # import all classes from numpy\n",
    "a = arange(15)\n",
    "a"
   ]
  },
  {
   "cell_type": "code",
   "execution_count": 97,
   "metadata": {
    "nbpresent": {
     "id": "82733bc9-0c67-49ba-af40-cba9548f666d"
    }
   },
   "outputs": [
    {
     "data": {
      "text/plain": [
       "array([[ 0,  1,  2,  3,  4],\n",
       "       [ 5,  6,  7,  8,  9],\n",
       "       [10, 11, 12, 13, 14]])"
      ]
     },
     "execution_count": 97,
     "metadata": {},
     "output_type": "execute_result"
    }
   ],
   "source": [
    "b = a.reshape(3,5)  # rows x columns\n",
    "b"
   ]
  },
  {
   "cell_type": "code",
   "execution_count": 98,
   "metadata": {
    "nbpresent": {
     "id": "968962d9-4d01-4a8b-bb15-6ba3c71fd9fa"
    },
    "slideshow": {
     "slide_type": "subslide"
    }
   },
   "outputs": [
    {
     "data": {
      "text/plain": [
       "(3, 5)"
      ]
     },
     "execution_count": 98,
     "metadata": {},
     "output_type": "execute_result"
    }
   ],
   "source": [
    "b.shape  # get the shape (num rows x num columns)"
   ]
  },
  {
   "cell_type": "code",
   "execution_count": 99,
   "metadata": {
    "nbpresent": {
     "id": "3e0d33e1-e6fd-42db-912e-f93c897a65be"
    },
    "slideshow": {
     "slide_type": "-"
    }
   },
   "outputs": [
    {
     "data": {
      "text/plain": [
       "2"
      ]
     },
     "execution_count": 99,
     "metadata": {},
     "output_type": "execute_result"
    }
   ],
   "source": [
    "b.ndim   # get number of dimensions"
   ]
  },
  {
   "cell_type": "code",
   "execution_count": 100,
   "metadata": {
    "nbpresent": {
     "id": "7225be73-749b-494f-9e82-8e01c08463db"
    }
   },
   "outputs": [
    {
     "data": {
      "text/plain": [
       "15"
      ]
     },
     "execution_count": 100,
     "metadata": {},
     "output_type": "execute_result"
    }
   ],
   "source": [
    "b.size   # get number of elements"
   ]
  },
  {
   "cell_type": "code",
   "execution_count": 101,
   "metadata": {
    "nbpresent": {
     "id": "337e5e1c-3f6c-48ad-827a-64f473f9e1a3"
    }
   },
   "outputs": [
    {
     "data": {
      "text/plain": [
       "dtype('int64')"
      ]
     },
     "execution_count": 101,
     "metadata": {},
     "output_type": "execute_result"
    }
   ],
   "source": [
    "b.dtype  # get the element type"
   ]
  },
  {
   "cell_type": "markdown",
   "metadata": {
    "nbpresent": {
     "id": "9b2e9e0d-e1bd-437e-b21d-45eaad634f28"
    },
    "slideshow": {
     "slide_type": "subslide"
    }
   },
   "source": [
    "# Array Creation"
   ]
  },
  {
   "cell_type": "code",
   "execution_count": 102,
   "metadata": {
    "nbpresent": {
     "id": "6a341235-7695-479d-a1db-722cc0b1347a"
    }
   },
   "outputs": [
    {
     "data": {
      "text/plain": [
       "array([1, 2, 3, 4])"
      ]
     },
     "execution_count": 102,
     "metadata": {},
     "output_type": "execute_result"
    }
   ],
   "source": [
    "a = array([1, 2, 3, 4])       # use a list to initialize\n",
    "a"
   ]
  },
  {
   "cell_type": "code",
   "execution_count": 103,
   "metadata": {
    "nbpresent": {
     "id": "c5b048fa-ade2-40fe-a751-ea72ff6384b2"
    }
   },
   "outputs": [
    {
     "data": {
      "text/plain": [
       "array([[1.1, 2. , 3. ],\n",
       "       [4. , 5. , 6. ]])"
      ]
     },
     "execution_count": 103,
     "metadata": {},
     "output_type": "execute_result"
    }
   ],
   "source": [
    "b = array([[1.1,2,3], [4,5,6]]) # or list of lists\n",
    "b"
   ]
  },
  {
   "cell_type": "code",
   "execution_count": 104,
   "metadata": {
    "nbpresent": {
     "id": "191459ed-119b-4314-923f-823ac144c020"
    },
    "slideshow": {
     "slide_type": "subslide"
    }
   },
   "outputs": [
    {
     "data": {
      "text/plain": [
       "array([[0., 0., 0., 0.],\n",
       "       [0., 0., 0., 0.],\n",
       "       [0., 0., 0., 0.]])"
      ]
     },
     "execution_count": 104,
     "metadata": {},
     "output_type": "execute_result"
    }
   ],
   "source": [
    "zeros( (3,4) )   # 3x4 array of zeros"
   ]
  },
  {
   "cell_type": "code",
   "execution_count": 105,
   "metadata": {
    "nbpresent": {
     "id": "bd0122cd-7c72-43d7-a7cc-76fa448c6ac6"
    }
   },
   "outputs": [
    {
     "data": {
      "text/plain": [
       "array([[1., 1., 1., 1.],\n",
       "       [1., 1., 1., 1.]])"
      ]
     },
     "execution_count": 105,
     "metadata": {},
     "output_type": "execute_result"
    }
   ],
   "source": [
    "ones( (2,4) )  # 2x4 array of ones"
   ]
  },
  {
   "cell_type": "code",
   "execution_count": 106,
   "metadata": {},
   "outputs": [
    {
     "data": {
      "text/plain": [
       "array([[8.8, 8.8, 8.8, 8.8],\n",
       "       [8.8, 8.8, 8.8, 8.8],\n",
       "       [8.8, 8.8, 8.8, 8.8]])"
      ]
     },
     "execution_count": 106,
     "metadata": {},
     "output_type": "execute_result"
    }
   ],
   "source": [
    "full( (3,4), 8.8)  # 3x4 array with all 8.8"
   ]
  },
  {
   "cell_type": "code",
   "execution_count": 107,
   "metadata": {
    "nbpresent": {
     "id": "531409a9-3ea2-4078-93ab-f03f803fde47"
    }
   },
   "outputs": [
    {
     "data": {
      "text/plain": [
       "array([[1.1, 2. , 3. ],\n",
       "       [4. , 5. , 6. ]])"
      ]
     },
     "execution_count": 107,
     "metadata": {},
     "output_type": "execute_result"
    }
   ],
   "source": [
    "empty( (2,3) )  # create an array, but do not prepopulate it.\n",
    "                # contents are random"
   ]
  },
  {
   "cell_type": "code",
   "execution_count": 108,
   "metadata": {
    "nbpresent": {
     "id": "77863762-ee1a-4838-9c3b-4d7afb506508"
    },
    "slideshow": {
     "slide_type": "subslide"
    }
   },
   "outputs": [
    {
     "data": {
      "text/plain": [
       "array([0. , 0.5, 1. , 1.5, 2. , 2.5, 3. , 3.5, 4. , 4.5])"
      ]
     },
     "execution_count": 108,
     "metadata": {},
     "output_type": "execute_result"
    }
   ],
   "source": [
    "arange(0,5,0.5)   # from 0 to 5 (exclusive), increment by 0.5"
   ]
  },
  {
   "cell_type": "code",
   "execution_count": 109,
   "metadata": {
    "nbpresent": {
     "id": "9eeb8b29-c05b-4fb9-b0fd-e49dcf23031f"
    },
    "slideshow": {
     "slide_type": "-"
    }
   },
   "outputs": [
    {
     "data": {
      "text/plain": [
       "array([0.        , 0.11111111, 0.22222222, 0.33333333, 0.44444444,\n",
       "       0.55555556, 0.66666667, 0.77777778, 0.88888889, 1.        ])"
      ]
     },
     "execution_count": 109,
     "metadata": {},
     "output_type": "execute_result"
    }
   ],
   "source": [
    "linspace(0,1,10)  # 10 evenly-spaced numbers between 0 to 1 (inclusive)"
   ]
  },
  {
   "cell_type": "code",
   "execution_count": 110,
   "metadata": {
    "nbpresent": {
     "id": "145abec8-6c65-4b85-90ae-2bd6e1541159"
    }
   },
   "outputs": [
    {
     "data": {
      "text/plain": [
       "array([1.00000000e-03, 3.16227766e-03, 1.00000000e-02, 3.16227766e-02,\n",
       "       1.00000000e-01, 3.16227766e-01, 1.00000000e+00, 3.16227766e+00,\n",
       "       1.00000000e+01, 3.16227766e+01, 1.00000000e+02, 3.16227766e+02,\n",
       "       1.00000000e+03])"
      ]
     },
     "execution_count": 110,
     "metadata": {},
     "output_type": "execute_result"
    }
   ],
   "source": [
    "logspace(-3,3,13)  # 13 numbers evenly spaced in log-space between 1e-3 and 1e3"
   ]
  },
  {
   "cell_type": "markdown",
   "metadata": {
    "nbpresent": {
     "id": "04014ddf-a5e8-45e7-9840-d2e0418c94b9"
    },
    "slideshow": {
     "slide_type": "subslide"
    }
   },
   "source": [
    "# Array Indexing"
   ]
  },
  {
   "cell_type": "markdown",
   "metadata": {
    "nbpresent": {
     "id": "da90b460-3a06-493b-9633-4c32e765b002"
    }
   },
   "source": [
    "- One-dimensional arrays are indexed, sliced, and iterated similar to Python lists."
   ]
  },
  {
   "cell_type": "code",
   "execution_count": 111,
   "metadata": {
    "nbpresent": {
     "id": "b2b940d4-ccbc-49a8-80c7-324e5c3ac89c"
    }
   },
   "outputs": [
    {
     "data": {
      "text/plain": [
       "3"
      ]
     },
     "execution_count": 111,
     "metadata": {},
     "output_type": "execute_result"
    }
   ],
   "source": [
    "a = array([1,2,3,4,5])\n",
    "a[2]"
   ]
  },
  {
   "cell_type": "code",
   "execution_count": 112,
   "metadata": {
    "nbpresent": {
     "id": "fc00872f-1e82-45a9-893d-e3a2a58b3c3c"
    }
   },
   "outputs": [
    {
     "data": {
      "text/plain": [
       "array([3, 4, 5])"
      ]
     },
     "execution_count": 112,
     "metadata": {},
     "output_type": "execute_result"
    }
   ],
   "source": [
    "a[2:5]            # index 2 through 4"
   ]
  },
  {
   "cell_type": "code",
   "execution_count": 113,
   "metadata": {
    "nbpresent": {
     "id": "06c93398-4340-4a90-b05c-acdbd10cbfa7"
    },
    "slideshow": {
     "slide_type": "subslide"
    }
   },
   "outputs": [
    {
     "data": {
      "text/plain": [
       "array([1, 3, 5])"
      ]
     },
     "execution_count": 113,
     "metadata": {},
     "output_type": "execute_result"
    }
   ],
   "source": [
    "a[0:5:2]          # index 0 through 4, by 2"
   ]
  },
  {
   "cell_type": "code",
   "execution_count": 114,
   "metadata": {
    "nbpresent": {
     "id": "96eeadb7-a6cb-45ce-a960-2aa9b2ebc65d"
    }
   },
   "outputs": [
    {
     "name": "stdout",
     "output_type": "stream",
     "text": [
      "1\n",
      "2\n",
      "3\n",
      "4\n",
      "5\n"
     ]
    }
   ],
   "source": [
    "# iterating with loop\n",
    "for i in a:\n",
    "    print(i)"
   ]
  },
  {
   "cell_type": "markdown",
   "metadata": {
    "nbpresent": {
     "id": "af30132f-735a-4453-a9b9-12de4722f2fe"
    },
    "slideshow": {
     "slide_type": "subslide"
    }
   },
   "source": [
    "- For multi-dimensional arrays, each axis had an index.\n",
    "  - indices are given using tuples (separated by commas)"
   ]
  },
  {
   "cell_type": "code",
   "execution_count": 115,
   "metadata": {
    "nbpresent": {
     "id": "039b55b5-a52c-488f-a14e-b4f4b2c90b0d"
    }
   },
   "outputs": [
    {
     "name": "stdout",
     "output_type": "stream",
     "text": [
      "[[1 2 3]\n",
      " [4 5 6]\n",
      " [7 8 9]]\n"
     ]
    }
   ],
   "source": [
    "a = array([[1, 2, 3], [4, 5, 6], [7,8,9]])\n",
    "print(a)"
   ]
  },
  {
   "cell_type": "code",
   "execution_count": 116,
   "metadata": {
    "nbpresent": {
     "id": "619ff086-76b1-4804-8a69-c8e2e5341291"
    }
   },
   "outputs": [
    {
     "data": {
      "text/plain": [
       "2"
      ]
     },
     "execution_count": 116,
     "metadata": {},
     "output_type": "execute_result"
    }
   ],
   "source": [
    "a[0,1]    # row 0, column 1"
   ]
  },
  {
   "cell_type": "code",
   "execution_count": 117,
   "metadata": {
    "nbpresent": {
     "id": "fd0e1612-34b7-4d21-a484-bc5e3fc50fe8"
    },
    "slideshow": {
     "slide_type": "subslide"
    }
   },
   "outputs": [
    {
     "data": {
      "text/plain": [
       "array([2, 5, 8])"
      ]
     },
     "execution_count": 117,
     "metadata": {},
     "output_type": "execute_result"
    }
   ],
   "source": [
    "a[:,1]    # all elements in column 1"
   ]
  },
  {
   "cell_type": "code",
   "execution_count": 118,
   "metadata": {
    "nbpresent": {
     "id": "468c83fb-9868-49c8-8be1-87462e280c02"
    },
    "slideshow": {
     "slide_type": "-"
    }
   },
   "outputs": [
    {
     "data": {
      "text/plain": [
       "array([[2, 3],\n",
       "       [5, 6]])"
      ]
     },
     "execution_count": 118,
     "metadata": {},
     "output_type": "execute_result"
    }
   ],
   "source": [
    "a[0:2, 1:3]  # sub array: rows 0-1, and columns 1-2"
   ]
  },
  {
   "cell_type": "code",
   "execution_count": 119,
   "metadata": {},
   "outputs": [
    {
     "name": "stdout",
     "output_type": "stream",
     "text": [
      "--\n",
      "[1 2 3]\n",
      "--\n",
      "[4 5 6]\n",
      "--\n",
      "[7 8 9]\n"
     ]
    }
   ],
   "source": [
    "# \"for\" iterates over the first index (rows)\n",
    "for r in a:\n",
    "    print(\"--\")\n",
    "    print(r)"
   ]
  },
  {
   "cell_type": "markdown",
   "metadata": {
    "nbpresent": {
     "id": "071c2eab-f9df-4362-b29d-ef0fde2008f2"
    },
    "slideshow": {
     "slide_type": "subslide"
    }
   },
   "source": [
    "- indexing with a boolean mask"
   ]
  },
  {
   "cell_type": "code",
   "execution_count": 120,
   "metadata": {
    "nbpresent": {
     "id": "cfb852ac-9ad4-48e1-8738-e7d38830cfe8"
    },
    "slideshow": {
     "slide_type": "-"
    }
   },
   "outputs": [
    {
     "name": "stdout",
     "output_type": "stream",
     "text": [
      "m = [ True False False  True]\n"
     ]
    },
    {
     "data": {
      "text/plain": [
       "array([3, 4])"
      ]
     },
     "execution_count": 120,
     "metadata": {},
     "output_type": "execute_result"
    }
   ],
   "source": [
    "a = array([3, 1, 2, 4])\n",
    "m = array([True, False, False, True])\n",
    "print(\"m =\", m)\n",
    "a[m]             # select with a mask"
   ]
  },
  {
   "cell_type": "markdown",
   "metadata": {
    "slideshow": {
     "slide_type": "slide"
    }
   },
   "source": [
    "# multi-dimensional arrays (tensors)"
   ]
  },
  {
   "cell_type": "markdown",
   "metadata": {},
   "source": [
    "- 3 x 2 x 4 tensor\n",
    "  - prints as three 2x4 arrays\n",
    "  - last index is iterated first"
   ]
  },
  {
   "cell_type": "code",
   "execution_count": 181,
   "metadata": {},
   "outputs": [
    {
     "name": "stdout",
     "output_type": "stream",
     "text": [
      "[[[ 0  1  2  3]\n",
      "  [ 4  5  6  7]]\n",
      "\n",
      " [[ 8  9 10 11]\n",
      "  [12 13 14 15]]\n",
      "\n",
      " [[16 17 18 19]\n",
      "  [20 21 22 23]]]\n"
     ]
    }
   ],
   "source": [
    "a = arange(24)\n",
    "b = a.reshape((3,2,4))\n",
    "print(b)"
   ]
  },
  {
   "cell_type": "markdown",
   "metadata": {
    "slideshow": {
     "slide_type": "subslide"
    }
   },
   "source": [
    "- indexing is similar to 2-dim arrays (i,j,k)"
   ]
  },
  {
   "cell_type": "code",
   "execution_count": 123,
   "metadata": {},
   "outputs": [
    {
     "data": {
      "text/plain": [
       "17"
      ]
     },
     "execution_count": 123,
     "metadata": {},
     "output_type": "execute_result"
    }
   ],
   "source": [
    "b[2,0,1]"
   ]
  },
  {
   "cell_type": "markdown",
   "metadata": {
    "slideshow": {
     "slide_type": "subslide"
    }
   },
   "source": [
    "- extract a \"slice\""
   ]
  },
  {
   "cell_type": "code",
   "execution_count": 124,
   "metadata": {
    "scrolled": true
   },
   "outputs": [
    {
     "data": {
      "text/plain": [
       "array([[ 8,  9, 10, 11],\n",
       "       [12, 13, 14, 15]])"
      ]
     },
     "execution_count": 124,
     "metadata": {},
     "output_type": "execute_result"
    }
   ],
   "source": [
    "b[1,:]  # i=1"
   ]
  },
  {
   "cell_type": "code",
   "execution_count": 125,
   "metadata": {},
   "outputs": [
    {
     "data": {
      "text/plain": [
       "array([[ 4,  5,  6,  7],\n",
       "       [12, 13, 14, 15],\n",
       "       [20, 21, 22, 23]])"
      ]
     },
     "execution_count": 125,
     "metadata": {},
     "output_type": "execute_result"
    }
   ],
   "source": [
    "b[:,1,:]  # j=1"
   ]
  },
  {
   "cell_type": "code",
   "execution_count": 126,
   "metadata": {
    "scrolled": true
   },
   "outputs": [
    {
     "data": {
      "text/plain": [
       "array([[ 1,  5],\n",
       "       [ 9, 13],\n",
       "       [17, 21]])"
      ]
     },
     "execution_count": 126,
     "metadata": {},
     "output_type": "execute_result"
    }
   ],
   "source": [
    "b[:,:,1]  # k=1"
   ]
  },
  {
   "cell_type": "code",
   "execution_count": 127,
   "metadata": {
    "slideshow": {
     "slide_type": "subslide"
    }
   },
   "outputs": [
    {
     "name": "stdout",
     "output_type": "stream",
     "text": [
      "--\n",
      "[[0 1 2 3]\n",
      " [4 5 6 7]]\n",
      "--\n",
      "[[ 8  9 10 11]\n",
      " [12 13 14 15]]\n",
      "--\n",
      "[[16 17 18 19]\n",
      " [20 21 22 23]]\n"
     ]
    }
   ],
   "source": [
    "# iterate over the first index\n",
    "for s in b:\n",
    "    print(\"--\")\n",
    "    print(s)"
   ]
  },
  {
   "cell_type": "markdown",
   "metadata": {
    "nbpresent": {
     "id": "6154eb04-1200-4ac3-8888-20422dd39d8b"
    },
    "slideshow": {
     "slide_type": "slide"
    }
   },
   "source": [
    "# Array Shape Manipulation\n",
    "- The shape of an array can be changed"
   ]
  },
  {
   "cell_type": "code",
   "execution_count": 128,
   "metadata": {
    "nbpresent": {
     "id": "a94e6c21-d2e8-47ea-9749-498d50ff17f7"
    }
   },
   "outputs": [
    {
     "name": "stdout",
     "output_type": "stream",
     "text": [
      "[[1 2 3]\n",
      " [4 5 6]]\n"
     ]
    },
    {
     "data": {
      "text/plain": [
       "(2, 3)"
      ]
     },
     "execution_count": 128,
     "metadata": {},
     "output_type": "execute_result"
    }
   ],
   "source": [
    "a = array([[1,2,3], [4, 5, 6]])\n",
    "print(a)\n",
    "a.shape"
   ]
  },
  {
   "cell_type": "code",
   "execution_count": 129,
   "metadata": {
    "nbpresent": {
     "id": "7abf8509-4a28-45a5-a046-3e38f8196bce"
    }
   },
   "outputs": [
    {
     "data": {
      "text/plain": [
       "array([1, 2, 3, 4, 5, 6])"
      ]
     },
     "execution_count": 129,
     "metadata": {},
     "output_type": "execute_result"
    }
   ],
   "source": [
    "a.ravel()      # return flattened array (last index iterated first)."
   ]
  },
  {
   "cell_type": "code",
   "execution_count": 130,
   "metadata": {
    "nbpresent": {
     "id": "78e397f5-2154-4cc5-b556-531d060dd161"
    }
   },
   "outputs": [
    {
     "data": {
      "text/plain": [
       "array([[1, 4],\n",
       "       [2, 5],\n",
       "       [3, 6]])"
      ]
     },
     "execution_count": 130,
     "metadata": {},
     "output_type": "execute_result"
    }
   ],
   "source": [
    "a.transpose()  # return transposed array (swap rows and columns)"
   ]
  },
  {
   "cell_type": "code",
   "execution_count": 131,
   "metadata": {
    "nbpresent": {
     "id": "71eee480-7c23-4689-bc34-32c2a0efbfc6"
    },
    "slideshow": {
     "slide_type": "subslide"
    }
   },
   "outputs": [
    {
     "data": {
      "text/plain": [
       "array([[1, 2],\n",
       "       [3, 4],\n",
       "       [5, 6]])"
      ]
     },
     "execution_count": 131,
     "metadata": {},
     "output_type": "execute_result"
    }
   ],
   "source": [
    "a.reshape(3,2)  # return reshaped array"
   ]
  },
  {
   "cell_type": "code",
   "execution_count": 132,
   "metadata": {
    "nbpresent": {
     "id": "d55aa5f6-a7a5-4088-b90d-d6193e851bec"
    }
   },
   "outputs": [
    {
     "name": "stdout",
     "output_type": "stream",
     "text": [
      "[[1 2]\n",
      " [3 4]\n",
      " [5 6]]\n"
     ]
    }
   ],
   "source": [
    "a.resize(3,2)   # change the shape directly (modifies a)\n",
    "print(a)"
   ]
  },
  {
   "cell_type": "markdown",
   "metadata": {
    "nbpresent": {
     "id": "65564ffe-3210-4439-9f03-41e64cacb412"
    },
    "slideshow": {
     "slide_type": "slide"
    }
   },
   "source": [
    "# Concatenating arrays"
   ]
  },
  {
   "cell_type": "code",
   "execution_count": 133,
   "metadata": {
    "nbpresent": {
     "id": "6ea5ed76-8047-4f61-acdc-6c7e92379f33"
    }
   },
   "outputs": [
    {
     "data": {
      "text/plain": [
       "array([1, 2, 3, 4, 5, 6])"
      ]
     },
     "execution_count": 133,
     "metadata": {},
     "output_type": "execute_result"
    }
   ],
   "source": [
    "a = array([1, 2, 3])\n",
    "b = array([4, 5, 6])\n",
    "concatenate((a,b))"
   ]
  },
  {
   "cell_type": "code",
   "execution_count": 134,
   "metadata": {
    "nbpresent": {
     "id": "16aa254f-2061-4e55-89e3-2055e93e8abf"
    }
   },
   "outputs": [
    {
     "data": {
      "text/plain": [
       "array([[1, 4],\n",
       "       [2, 5],\n",
       "       [3, 6]])"
      ]
     },
     "execution_count": 134,
     "metadata": {},
     "output_type": "execute_result"
    }
   ],
   "source": [
    "c_[a,b]      # concatenate as column vectors"
   ]
  },
  {
   "cell_type": "code",
   "execution_count": 135,
   "metadata": {
    "nbpresent": {
     "id": "18fd72be-7a00-4630-8158-596f9df26546"
    },
    "scrolled": true
   },
   "outputs": [
    {
     "data": {
      "text/plain": [
       "array([1, 2, 3, 4, 5, 6])"
      ]
     },
     "execution_count": 135,
     "metadata": {},
     "output_type": "execute_result"
    }
   ],
   "source": [
    "r_[a,b]      # concatenate as row vectors"
   ]
  },
  {
   "cell_type": "markdown",
   "metadata": {
    "nbpresent": {
     "id": "81d7e163-a7d9-4085-983d-e3c2365ca56c"
    },
    "slideshow": {
     "slide_type": "slide"
    }
   },
   "source": [
    "# Stacking arrays"
   ]
  },
  {
   "cell_type": "code",
   "execution_count": 136,
   "metadata": {
    "nbpresent": {
     "id": "fc07f251-7f53-4c00-aaa5-b0d96c58cd08"
    }
   },
   "outputs": [
    {
     "data": {
      "text/plain": [
       "array([[1, 1],\n",
       "       [1, 1],\n",
       "       [2, 2],\n",
       "       [2, 2]])"
      ]
     },
     "execution_count": 136,
     "metadata": {},
     "output_type": "execute_result"
    }
   ],
   "source": [
    "a = array([[1, 1],\n",
    "           [1, 1]])\n",
    "b = array([[2, 2],\n",
    "           [2, 2]])\n",
    "vstack( (a,b) )     # stack vertically"
   ]
  },
  {
   "cell_type": "code",
   "execution_count": 137,
   "metadata": {
    "nbpresent": {
     "id": "93ccf662-e6ee-4931-a6b9-b863fac07ce9"
    },
    "scrolled": true
   },
   "outputs": [
    {
     "data": {
      "text/plain": [
       "array([[1, 1, 2, 2],\n",
       "       [1, 1, 2, 2]])"
      ]
     },
     "execution_count": 137,
     "metadata": {},
     "output_type": "execute_result"
    }
   ],
   "source": [
    "hstack( (a,b) )     # stack horizontally"
   ]
  },
  {
   "cell_type": "markdown",
   "metadata": {
    "nbpresent": {
     "id": "60b020a2-c81f-4120-ab3c-a36f4875c783"
    },
    "slideshow": {
     "slide_type": "slide"
    }
   },
   "source": [
    "# Array Operations\n",
    "- operators are applied **elementwise**"
   ]
  },
  {
   "cell_type": "code",
   "execution_count": 138,
   "metadata": {
    "nbpresent": {
     "id": "2b45d3e7-6101-43fc-b36e-b7dc75e62186"
    }
   },
   "outputs": [
    {
     "data": {
      "text/plain": [
       "array([20, 29, 38, 47])"
      ]
     },
     "execution_count": 138,
     "metadata": {},
     "output_type": "execute_result"
    }
   ],
   "source": [
    "a = array( [20,30,40,50] )\n",
    "b = arange( 4 )   # [0 1 2 3]\n",
    "a - b             # element-wise subtraction"
   ]
  },
  {
   "cell_type": "code",
   "execution_count": 139,
   "metadata": {
    "nbpresent": {
     "id": "49b94a79-f91d-4682-973b-351361c92269"
    }
   },
   "outputs": [
    {
     "data": {
      "text/plain": [
       "array([0, 1, 4, 9])"
      ]
     },
     "execution_count": 139,
     "metadata": {},
     "output_type": "execute_result"
    }
   ],
   "source": [
    "b**2              # element-wise exponentiation"
   ]
  },
  {
   "cell_type": "code",
   "execution_count": 140,
   "metadata": {
    "nbpresent": {
     "id": "db06afcf-98e8-4a47-9d63-e05c01390dda"
    },
    "scrolled": true
   },
   "outputs": [
    {
     "data": {
      "text/plain": [
       "array([ 9.12945251, -9.88031624,  7.4511316 , -2.62374854])"
      ]
     },
     "execution_count": 140,
     "metadata": {},
     "output_type": "execute_result"
    }
   ],
   "source": [
    "10*sin(a)         # element-wise product and sin"
   ]
  },
  {
   "cell_type": "code",
   "execution_count": 141,
   "metadata": {
    "nbpresent": {
     "id": "37126015-a552-4d08-86bd-ccc87ef01df9"
    }
   },
   "outputs": [
    {
     "data": {
      "text/plain": [
       "array([ True,  True, False, False])"
      ]
     },
     "execution_count": 141,
     "metadata": {},
     "output_type": "execute_result"
    }
   ],
   "source": [
    "a < 35            # element-wise comparison"
   ]
  },
  {
   "cell_type": "markdown",
   "metadata": {
    "nbpresent": {
     "id": "e4eaf201-df8b-40bb-a3de-56384c485ae9"
    },
    "slideshow": {
     "slide_type": "subslide"
    }
   },
   "source": [
    "- product operator (`*`) is **elementwise**\n",
    "  - i.e., Hadamard product"
   ]
  },
  {
   "cell_type": "code",
   "execution_count": 142,
   "metadata": {
    "nbpresent": {
     "id": "724f7c08-fe02-48b7-88b4-a5384d8b717a"
    }
   },
   "outputs": [
    {
     "data": {
      "text/plain": [
       "array([[2, 0],\n",
       "       [0, 4]])"
      ]
     },
     "execution_count": 142,
     "metadata": {},
     "output_type": "execute_result"
    }
   ],
   "source": [
    "A = array( [[1,1],\n",
    "            [0,1]] )\n",
    "B = array( [[2,0],\n",
    "            [3,4]] )\n",
    "A*B                         # elementwise product"
   ]
  },
  {
   "cell_type": "markdown",
   "metadata": {
    "nbpresent": {
     "id": "3405ded9-d22f-4264-a47b-4f47de3034a8"
    },
    "slideshow": {
     "slide_type": "subslide"
    }
   },
   "source": [
    "- compound assignment: `*=`, `+=`, `-=`\n",
    "- unary operators"
   ]
  },
  {
   "cell_type": "code",
   "execution_count": 143,
   "metadata": {
    "nbpresent": {
     "id": "fc0dc2f1-e436-4381-b39a-86c83fb83926"
    }
   },
   "outputs": [
    {
     "data": {
      "text/plain": [
       "21"
      ]
     },
     "execution_count": 143,
     "metadata": {},
     "output_type": "execute_result"
    }
   ],
   "source": [
    "a = array( [[1,2,3], [4, 5, 6]])\n",
    "a.sum()"
   ]
  },
  {
   "cell_type": "code",
   "execution_count": 144,
   "metadata": {
    "nbpresent": {
     "id": "5499f1d9-9988-445d-b1ef-570795670c60"
    }
   },
   "outputs": [
    {
     "data": {
      "text/plain": [
       "1"
      ]
     },
     "execution_count": 144,
     "metadata": {},
     "output_type": "execute_result"
    }
   ],
   "source": [
    "a.min()"
   ]
  },
  {
   "cell_type": "code",
   "execution_count": 145,
   "metadata": {
    "nbpresent": {
     "id": "b4fbf9b7-1f2b-4400-924d-99042782d65a"
    }
   },
   "outputs": [
    {
     "data": {
      "text/plain": [
       "6"
      ]
     },
     "execution_count": 145,
     "metadata": {},
     "output_type": "execute_result"
    }
   ],
   "source": [
    "a.max()"
   ]
  },
  {
   "cell_type": "markdown",
   "metadata": {
    "nbpresent": {
     "id": "38dcd1f2-6553-49b6-8770-5ad21712b3e6"
    },
    "slideshow": {
     "slide_type": "subslide"
    }
   },
   "source": [
    "- unary operators on each axis of array"
   ]
  },
  {
   "cell_type": "code",
   "execution_count": 146,
   "metadata": {
    "nbpresent": {
     "id": "8f052e95-f3d3-4fff-a399-088095e005df"
    }
   },
   "outputs": [
    {
     "data": {
      "text/plain": [
       "array([5, 7, 9])"
      ]
     },
     "execution_count": 146,
     "metadata": {},
     "output_type": "execute_result"
    }
   ],
   "source": [
    "a = array( [[1,2,3], [4, 5, 6]])\n",
    "a.sum(axis=0)    # sum over rows"
   ]
  },
  {
   "cell_type": "code",
   "execution_count": 147,
   "metadata": {
    "nbpresent": {
     "id": "cf5f9f1b-c400-41ff-9234-f52fe2a33d7b"
    }
   },
   "outputs": [
    {
     "data": {
      "text/plain": [
       "array([ 6, 15])"
      ]
     },
     "execution_count": 147,
     "metadata": {},
     "output_type": "execute_result"
    }
   ],
   "source": [
    "a.sum(axis=1)    # sum over column"
   ]
  },
  {
   "cell_type": "markdown",
   "metadata": {
    "nbpresent": {
     "id": "410d126b-5e16-45a7-8deb-b58cc2855680"
    },
    "slideshow": {
     "slide_type": "subslide"
    }
   },
   "source": [
    "- Numpy provides functions for other operations (called universal functions)\n",
    "  - `argmax`, `argmin`, `min`, `max`\n",
    "  - `average`, `cov`, `std`, `mean`, `median`, \n",
    "  - `ceil`, `floor`\n",
    "  - `cumsum`, `cumprod`, `diff`, `sum`, `prod`\n",
    "  - `inv`, `dot`, `trace`, `transpose`"
   ]
  },
  {
   "cell_type": "markdown",
   "metadata": {
    "slideshow": {
     "slide_type": "slide"
    }
   },
   "source": [
    "# Broadcasting\n",
    "- any binary operators (+, -, *, etc)\n",
    "- if the two operands are not the same size\n",
    "  - broadcasting tries to extend the singleton dimensions of one operand to match the other operand.\n",
    "  - an Error is thrown if two operands can't be broadcast together.\n",
    "- operands do not need to have the same number of dimensions\n",
    "  - match dimensions from the right\n"
   ]
  },
  {
   "cell_type": "code",
   "execution_count": 148,
   "metadata": {
    "scrolled": false,
    "slideshow": {
     "slide_type": "subslide"
    }
   },
   "outputs": [],
   "source": [
    "a = array( [[1,2,3],\n",
    "            [4,5,6]] )"
   ]
  },
  {
   "cell_type": "code",
   "execution_count": 149,
   "metadata": {},
   "outputs": [],
   "source": [
    "b = array( [1,2,3] )"
   ]
  },
  {
   "cell_type": "markdown",
   "metadata": {
    "slideshow": {
     "slide_type": "-"
    }
   },
   "source": [
    "- a and b are not the same dimensions, \n",
    "  - b is \"stretched\" so that it fills in a 2x3 shape\n",
    "```\n",
    "a:      2 x 3\n",
    "b:          3\n",
    "result: 2 x 3\n",
    "```\n"
   ]
  },
  {
   "cell_type": "code",
   "execution_count": 150,
   "metadata": {},
   "outputs": [
    {
     "data": {
      "text/plain": [
       "array([[2, 4, 6],\n",
       "       [5, 7, 9]])"
      ]
     },
     "execution_count": 150,
     "metadata": {},
     "output_type": "execute_result"
    }
   ],
   "source": [
    "a + b"
   ]
  },
  {
   "cell_type": "markdown",
   "metadata": {
    "slideshow": {
     "slide_type": "subslide"
    }
   },
   "source": [
    "- c is stretched so that it fills in a 2x3 shape\n",
    "```\n",
    "a:      2 x 3\n",
    "c:      2 x 1\n",
    "result: 2 x 3\n",
    "```\n",
    "  "
   ]
  },
  {
   "cell_type": "code",
   "execution_count": 151,
   "metadata": {},
   "outputs": [],
   "source": [
    "c = array( [[1],\n",
    "            [2]] )"
   ]
  },
  {
   "cell_type": "code",
   "execution_count": 152,
   "metadata": {
    "scrolled": true
   },
   "outputs": [
    {
     "data": {
      "text/plain": [
       "array([[2, 3, 4],\n",
       "       [6, 7, 8]])"
      ]
     },
     "execution_count": 152,
     "metadata": {},
     "output_type": "execute_result"
    }
   ],
   "source": [
    "a+c"
   ]
  },
  {
   "cell_type": "markdown",
   "metadata": {
    "slideshow": {
     "slide_type": "subslide"
    }
   },
   "source": [
    "- b and c are both stretched to 2x3 shape\n",
    "```\n",
    "b:          3\n",
    "c:      2 x 1\n",
    "result: 2 x 3\n",
    "```"
   ]
  },
  {
   "cell_type": "code",
   "execution_count": 153,
   "metadata": {},
   "outputs": [
    {
     "data": {
      "text/plain": [
       "array([[2, 3, 4],\n",
       "       [3, 4, 5]])"
      ]
     },
     "execution_count": 153,
     "metadata": {},
     "output_type": "execute_result"
    }
   ],
   "source": [
    "b+c"
   ]
  },
  {
   "cell_type": "markdown",
   "metadata": {
    "slideshow": {
     "slide_type": "subslide"
    }
   },
   "source": [
    "- \"newaxis\" can insert an extra dimension\n",
    "```\n",
    "b:                3\n",
    "b[:,newaxis]: 3 x 1\n",
    "result:       3 x 3\n",
    "```"
   ]
  },
  {
   "cell_type": "code",
   "execution_count": 154,
   "metadata": {},
   "outputs": [
    {
     "data": {
      "text/plain": [
       "array([[2, 3, 4],\n",
       "       [3, 4, 5],\n",
       "       [4, 5, 6]])"
      ]
     },
     "execution_count": 154,
     "metadata": {},
     "output_type": "execute_result"
    }
   ],
   "source": [
    "b + b[:,newaxis]"
   ]
  },
  {
   "cell_type": "markdown",
   "metadata": {
    "slideshow": {
     "slide_type": "slide"
    }
   },
   "source": [
    "# Brief Linear Algebra Review\n",
    "- column vector: $\\mathbf{x} = \\left[\\begin{array}{c} x_1\\\\\\vdots\\\\x_d\\end{array}\\right] \\in \\mathbb{R}^d$\n",
    "- matrix: $\\mathbf{A} = \\left[\\begin{array}{c}a_{1,1} & \\cdots & a_{1,n} \\\\ \\vdots & \\ddots & \\vdots \\\\ a_{m,1} & \\cdots & a_{m,n}\\end{array}\\right] \\in \\mathbb{R}^{m\\times n}$\n"
   ]
  },
  {
   "cell_type": "markdown",
   "metadata": {
    "slideshow": {
     "slide_type": "subslide"
    }
   },
   "source": [
    "- matrix as collection of column vectors: $\\mathbf{A} = \\left[\\begin{array}{c} | & & | \\\\ \\mathbf{a}_1 & \\cdots & \\mathbf{a}_n \\\\ | & & | \\end{array}\\right]$\n",
    "  - $\\mathbf{a}_i$ is the i-th column of $\\mathbf{A}$."
   ]
  },
  {
   "cell_type": "code",
   "execution_count": 155,
   "metadata": {
    "slideshow": {
     "slide_type": "subslide"
    }
   },
   "outputs": [
    {
     "name": "stdout",
     "output_type": "stream",
     "text": [
      "[[1]\n",
      " [2]\n",
      " [3]]\n"
     ]
    }
   ],
   "source": [
    "x = array([1,2,3]).reshape((3,1))\n",
    "print(x)"
   ]
  },
  {
   "cell_type": "code",
   "execution_count": 156,
   "metadata": {
    "scrolled": true
   },
   "outputs": [
    {
     "name": "stdout",
     "output_type": "stream",
     "text": [
      "[[0. 0. 0.]\n",
      " [0. 0. 0.]\n",
      " [0. 0. 0.]]\n"
     ]
    }
   ],
   "source": [
    "A = zeros((3,3))\n",
    "print(A)"
   ]
  },
  {
   "cell_type": "markdown",
   "metadata": {
    "slideshow": {
     "slide_type": "subslide"
    }
   },
   "source": [
    "- Transpose: swap rows and columns\n",
    "  - $\\mathbf{x}^T = [x_1 \\cdots x_d]$"
   ]
  },
  {
   "cell_type": "code",
   "execution_count": 157,
   "metadata": {},
   "outputs": [
    {
     "name": "stdout",
     "output_type": "stream",
     "text": [
      "['A', 'B', 'C']\n"
     ]
    }
   ],
   "source": [
    "z = x.transpose()\n",
    "print(y)"
   ]
  },
  {
   "cell_type": "markdown",
   "metadata": {
    "slideshow": {
     "slide_type": "slide"
    }
   },
   "source": [
    "# Inner product\n",
    "- Inner product: $\\mathbf{x}^T \\mathbf{y} = \\sum_{i=1}^d x_i y_i$\n",
    "  - measures the similarity between vectors $\\mathbf{x}$ and $\\mathbf{y}$."
   ]
  },
  {
   "cell_type": "code",
   "execution_count": 158,
   "metadata": {},
   "outputs": [],
   "source": [
    "x = array([1, 2, 3])\n",
    "y = array([2, 1, 1])\n",
    "inner(x,y)"
   ]
  },
  {
   "cell_type": "markdown",
   "metadata": {
    "slideshow": {
     "slide_type": "subslide"
    }
   },
   "source": [
    "- Length (norm): $||\\mathbf{x}|| = \\sqrt{\\mathbf{x}^T\\mathbf{x}} = \\sqrt{\\sum_{i=1}^d x_i^2}$"
   ]
  },
  {
   "cell_type": "code",
   "execution_count": 182,
   "metadata": {
    "slideshow": {
     "slide_type": "-"
    }
   },
   "outputs": [
    {
     "data": {
      "text/plain": [
       "14.750252401517024"
      ]
     },
     "execution_count": 182,
     "metadata": {},
     "output_type": "execute_result"
    }
   ],
   "source": [
    "x = array([1, 2, 3])\n",
    "linalg.norm(x)"
   ]
  },
  {
   "cell_type": "markdown",
   "metadata": {
    "slideshow": {
     "slide_type": "-"
    }
   },
   "source": [
    "- Distance between two vectors: $||\\mathbf{x}-\\mathbf{y}|| = \\sqrt{\\sum_{i=1}^d (x_i-y_i)^2}$\n",
    "\n"
   ]
  },
  {
   "cell_type": "code",
   "execution_count": 161,
   "metadata": {},
   "outputs": [
    {
     "data": {
      "text/plain": [
       "2.449489742783178"
      ]
     },
     "execution_count": 161,
     "metadata": {},
     "output_type": "execute_result"
    }
   ],
   "source": [
    "y = array([2, 1, 1])\n",
    "linalg.norm(x-y)"
   ]
  },
  {
   "cell_type": "markdown",
   "metadata": {
    "slideshow": {
     "slide_type": "subslide"
    }
   },
   "source": [
    "- Outerproduct between two vectors: $\\mathbf{x}\\mathbf{y}^T = \\left[\\begin{array}{c}y_1 \\mathbf{x} & \\cdots & y_d \\mathbf{x} \\end{array}\\right]$\n",
    "  - $\\mathbf{x}\\mathbf{y}^T = \\left[\\begin{array}{c}x_1y_1 & \\cdots & x_1y_d \\\\ \\vdots & \\ddots & \\vdots \\\\ x_dy_1 & \\cdots & x_d y_d\\end{array}\\right]$"
   ]
  },
  {
   "cell_type": "code",
   "execution_count": 162,
   "metadata": {},
   "outputs": [
    {
     "data": {
      "text/plain": [
       "array([[2, 1, 1],\n",
       "       [4, 2, 2],\n",
       "       [6, 3, 3]])"
      ]
     },
     "execution_count": 162,
     "metadata": {},
     "output_type": "execute_result"
    }
   ],
   "source": [
    "x = array([1, 2, 3])\n",
    "y = array([2, 1, 1])\n",
    "outer(x,y)"
   ]
  },
  {
   "cell_type": "markdown",
   "metadata": {
    "slideshow": {
     "slide_type": "slide"
    }
   },
   "source": [
    "# Matrix multiplication\n",
    "- need compatible dimensions: $\\mathbf{C}_{m \\times n} = \\mathbf{A}_{m\\times d} \\mathbf{B}_{d\\times n}$\n",
    "- $\\mathbf{A} = \\left[\\begin{array}{c} \\fbox{$\\begin{array}{c} a_{1,1} & \\cdots & a_{1,n}\\end{array}$} \\\\  \\begin{array}{c}\\vdots & \\ddots & \\vdots\\end{array} \\\\  \\begin{array}{c}a_{m,1} & \\cdots & a_{m,n}\\end{array}\\end{array}\\right]$, $\\mathbf{B} = \\left[\\begin{array}{c} \n",
    "\\fbox{$\\begin{array}{c}b_{1,1}\\\\\\vdots\\\\b_{m,1}\\end{array}$}\n",
    "    &\\begin{array}{c}\\cdots\\\\\\ddots\\\\\\cdots\\end{array}\n",
    " &\\begin{array}{c}b_{1,n}\\\\\\vdots\\\\b_{m,n}\\end{array}\n",
    " \\end{array}\\right]$\n",
    "- Entry in $\\mathbf{C}$: $c_{i,j} = \\mathbf{a}_i \\mathbf{b}_j = \\sum_{k=1}^d a_{i,d} b_{d,j}$"
   ]
  },
  {
   "cell_type": "code",
   "execution_count": 163,
   "metadata": {
    "slideshow": {
     "slide_type": "subslide"
    }
   },
   "outputs": [
    {
     "data": {
      "text/plain": [
       "array([[ 2,  3],\n",
       "       [-2,  3]])"
      ]
     },
     "execution_count": 163,
     "metadata": {},
     "output_type": "execute_result"
    }
   ],
   "source": [
    "A = array([[1, 2, 3],\n",
    "           [2, 1, 0]])\n",
    "B = array([[-1, 1],\n",
    "           [0,  1], \n",
    "           [1,  0]])\n",
    "A @ B"
   ]
  },
  {
   "cell_type": "markdown",
   "metadata": {
    "slideshow": {
     "slide_type": "subslide"
    }
   },
   "source": [
    "# Matrix-Vector multiplication\n",
    "- Different interpretations if using transpose or not.\n",
    "- $\\mathbf{A}\\mathbf{x}$: Linear combination of the columns of $\\mathbf{A}$\n",
    "  - $\\mathbf{A}\\in\\mathbb{R}^{m\\times d}, \\mathbf{x}\\in\\mathbb{R}^d$:\n",
    "  - $\\mathbf{y} = \\mathbf{A}\\mathbf{x} = \n",
    "  \\left[\\begin{array}{c}| & &| \\\\ \\mathbf{a}_1 & \\cdots & \\mathbf{a}_d\\\\| && | \\end{array}\\right]\n",
    "  \\left[\\begin{array}{c} x_1 \\\\ \\vdots \\\\ x_d \\end{array}\\right]\n",
    "  = \\sum_{i=1}^d x_i \\mathbf{a}_i \\in \\mathbb{R}^m$"
   ]
  },
  {
   "cell_type": "code",
   "execution_count": 164,
   "metadata": {
    "slideshow": {
     "slide_type": "subslide"
    }
   },
   "outputs": [
    {
     "data": {
      "text/plain": [
       "array([1, 2])"
      ]
     },
     "execution_count": 164,
     "metadata": {},
     "output_type": "execute_result"
    }
   ],
   "source": [
    "A = array([[1, 2],\n",
    "           [3, 5]])\n",
    "x = array([-1, 1])\n",
    "A @ x  # matrix multiplicattion"
   ]
  },
  {
   "cell_type": "markdown",
   "metadata": {
    "slideshow": {
     "slide_type": "subslide"
    }
   },
   "source": [
    "- $\\mathbf{A}^T\\mathbf{x}$: Vector of inner products with columns of $\\mathbf{A}$\n",
    "  - $\\mathbf{A}\\in\\mathbb{R}^{d\\times m}, \\mathbf{x}\\in\\mathbb{R}^d$:\n",
    "  - $\\mathbf{y} = \\mathbf{A}^T\\mathbf{x} \n",
    "  = \\left[\\begin{array}{c}| & &| \\\\ \\mathbf{a}_1 & \\cdots & \\mathbf{a}_d\\\\| && | \\end{array}\\right]^T\\mathbf{x}\n",
    "  = \\left[\\begin{array}{c}- & \\mathbf{a}_1^T &- \\\\ & \\vdots & \\\\ - & \\mathbf{a}_m^T & - \\end{array}\\right]\\mathbf{x}\n",
    "  = \\left[\\begin{array}{c} \\mathbf{a}_1^T\\mathbf{x} \\\\ \\vdots \\\\ \\mathbf{a}_m^T\\mathbf{x} \\end{array}\\right]\n",
    "  \\in \\mathbb{R}^m$"
   ]
  },
  {
   "cell_type": "code",
   "execution_count": 165,
   "metadata": {
    "slideshow": {
     "slide_type": "subslide"
    }
   },
   "outputs": [
    {
     "data": {
      "text/plain": [
       "array([2, 3])"
      ]
     },
     "execution_count": 165,
     "metadata": {},
     "output_type": "execute_result"
    }
   ],
   "source": [
    "A = array([[1, 2],\n",
    "           [3, 5]])\n",
    "x = array([-1, 1])\n",
    "A.transpose() @ x"
   ]
  },
  {
   "cell_type": "markdown",
   "metadata": {
    "slideshow": {
     "slide_type": "subslide"
    }
   },
   "source": [
    "# Matrix-matrix multiplication\n",
    "- $\\mathbf{A}\\mathbf{B}$: $\\mathbf{A}$ multiplied by each column of $\\mathbf{B}$\n",
    "  - $\\mathbf{A}\\mathbf{B} \n",
    "  = \\mathbf{A} \\left[\\begin{array}{c}| & &| \\\\ \\mathbf{b}_1 & \\cdots & \\mathbf{b}_n\\\\| && | \\end{array}\\right]\n",
    "  = \\left[\\begin{array}{c}| & &| \\\\ \\mathbf{A}\\mathbf{b}_1 & \\cdots & \\mathbf{A}\\mathbf{b}_n\\\\| && | \\end{array}\\right]$\n"
   ]
  },
  {
   "cell_type": "code",
   "execution_count": 166,
   "metadata": {
    "slideshow": {
     "slide_type": "subslide"
    }
   },
   "outputs": [
    {
     "data": {
      "text/plain": [
       "array([[-1,  3],\n",
       "       [-2,  3]])"
      ]
     },
     "execution_count": 166,
     "metadata": {},
     "output_type": "execute_result"
    }
   ],
   "source": [
    "A = array([[1, 2],\n",
    "           [2, 1]])\n",
    "B = array([[-1,1],\n",
    "           [0, 1]])\n",
    "A @ B"
   ]
  },
  {
   "cell_type": "markdown",
   "metadata": {
    "slideshow": {
     "slide_type": "subslide"
    }
   },
   "source": [
    "- $\\mathbf{A}^T\\mathbf{B}$: matrix of inner products between columns of $\\mathbf{A}$ and $\\mathbf{B}$\n",
    "  - $\\mathbf{A}^T\\mathbf{B} \n",
    "  = \\mathbf{A}^T \\left[\\begin{array}{c}| & &| \\\\ \\mathbf{b}_1 & \\cdots & \\mathbf{b}_n\\\\| && | \\end{array}\\right]\n",
    "  = \\left[\\begin{array}{c}\\mathbf{a_1}^T\\mathbf{b_1} & \\cdots &\\mathbf{a_1}^T\\mathbf{b_n} \\\\ \\vdots & \\ddots & \\vdots\\\\ \\mathbf{a_m}^T\\mathbf{b_1}& \\cdots & \\mathbf{a_m}^T\\mathbf{b_n}\\end{array}\\right] = \\left[\\mathbf{a_i}^T\\mathbf{b_j}\\right]_{ij}$\n",
    "\n"
   ]
  },
  {
   "cell_type": "code",
   "execution_count": 167,
   "metadata": {
    "slideshow": {
     "slide_type": "subslide"
    }
   },
   "outputs": [
    {
     "data": {
      "text/plain": [
       "array([[-1,  3],\n",
       "       [-2,  3]])"
      ]
     },
     "execution_count": 167,
     "metadata": {},
     "output_type": "execute_result"
    }
   ],
   "source": [
    "A = array([[1, 2],\n",
    "           [2, 1]])\n",
    "B = array([[-1,1],\n",
    "           [0, 1]])\n",
    "A.transpose() @ B"
   ]
  },
  {
   "cell_type": "markdown",
   "metadata": {
    "slideshow": {
     "slide_type": "subslide"
    }
   },
   "source": [
    "- $\\mathbf{A}\\mathbf{B}^T$: sum of outer products of between columns of $\\mathbf{A}$ and $\\mathbf{B}$\n",
    "  - $\\mathbf{A}\\mathbf{B}^T\n",
    "  = \\left[\\begin{array}{c}| & &| \\\\ \\mathbf{a}_1 & \\cdots & \\mathbf{a}_n\\\\| && | \\end{array}\\right]\n",
    "    \\left[\\begin{array}{c}- & \\mathbf{b}_1^T &- \\\\ & \\vdots & \\\\ - & \\mathbf{b}_n^T & - \\end{array}\\right]\n",
    "  = \\sum_{i=1}^n \\mathbf{a}_i \\mathbf{b}_i^T\n",
    "$\n",
    "\n",
    "\n"
   ]
  },
  {
   "cell_type": "code",
   "execution_count": 168,
   "metadata": {
    "slideshow": {
     "slide_type": "subslide"
    }
   },
   "outputs": [
    {
     "data": {
      "text/plain": [
       "array([[ 1,  2],\n",
       "       [-1,  1]])"
      ]
     },
     "execution_count": 168,
     "metadata": {},
     "output_type": "execute_result"
    }
   ],
   "source": [
    "A = array([[1, 2],\n",
    "           [2, 1]])\n",
    "B = array([[-1,1],\n",
    "           [0, 1]])\n",
    "A @ B.transpose()"
   ]
  },
  {
   "cell_type": "markdown",
   "metadata": {
    "nbpresent": {
     "id": "ee7a53b7-c918-4117-94a2-16e1859eadf4"
    },
    "slideshow": {
     "slide_type": "slide"
    }
   },
   "source": [
    "# Copies and Views\n",
    "- When operating on arrays, data is sometimes copied and sometimes not.\n",
    "- _No copy is made for simple assignment._\n",
    "  - **Be careful!**"
   ]
  },
  {
   "cell_type": "code",
   "execution_count": 169,
   "metadata": {
    "nbpresent": {
     "id": "c541b0a1-eb73-43b5-9162-1a17aca4f235"
    }
   },
   "outputs": [
    {
     "data": {
      "text/plain": [
       "True"
      ]
     },
     "execution_count": 169,
     "metadata": {},
     "output_type": "execute_result"
    }
   ],
   "source": [
    "a = array([1,2,3,4])\n",
    "b = a               # simple assignment (no copy made!)\n",
    "b is a              # yes, b references the same object"
   ]
  },
  {
   "cell_type": "code",
   "execution_count": 170,
   "metadata": {
    "nbpresent": {
     "id": "2ea6e6b1-bab1-477d-b04f-cd3fc31b5091"
    }
   },
   "outputs": [
    {
     "data": {
      "text/plain": [
       "array([ 1, -2,  3,  4])"
      ]
     },
     "execution_count": 170,
     "metadata": {},
     "output_type": "execute_result"
    }
   ],
   "source": [
    "b[1] = -2           # changing b also changes a\n",
    "a"
   ]
  },
  {
   "cell_type": "markdown",
   "metadata": {
    "nbpresent": {
     "id": "9f40a665-f1c9-4f63-a201-60f9ec8ecce0"
    },
    "slideshow": {
     "slide_type": "subslide"
    }
   },
   "source": [
    "- View or shallow copy\n",
    "  - different array objects can share the same data (called a view)\n",
    "  - happens when slicing"
   ]
  },
  {
   "cell_type": "code",
   "execution_count": 171,
   "metadata": {
    "nbpresent": {
     "id": "13f99b95-c097-4f83-be86-cc0731db9c60"
    }
   },
   "outputs": [
    {
     "data": {
      "text/plain": [
       "False"
      ]
     },
     "execution_count": 171,
     "metadata": {},
     "output_type": "execute_result"
    }
   ],
   "source": [
    "c = a.view()   # create a view of a\n",
    "c is a         # not the same object"
   ]
  },
  {
   "cell_type": "code",
   "execution_count": 172,
   "metadata": {
    "nbpresent": {
     "id": "4ce9743a-dc35-4fa5-9a3c-aa8932bc85d3"
    }
   },
   "outputs": [
    {
     "data": {
      "text/plain": [
       "True"
      ]
     },
     "execution_count": 172,
     "metadata": {},
     "output_type": "execute_result"
    }
   ],
   "source": [
    "c.base is a    # but the data is owned by a"
   ]
  },
  {
   "cell_type": "code",
   "execution_count": 173,
   "metadata": {
    "nbpresent": {
     "id": "1fc13e0f-2569-4846-84c5-21eaeb897dff"
    }
   },
   "outputs": [
    {
     "data": {
      "text/plain": [
       "array([[ 1, -2],\n",
       "       [ 3,  4]])"
      ]
     },
     "execution_count": 173,
     "metadata": {},
     "output_type": "execute_result"
    }
   ],
   "source": [
    "c.shape = 2,2   # change shape of c\n",
    "c"
   ]
  },
  {
   "cell_type": "code",
   "execution_count": 174,
   "metadata": {
    "nbpresent": {
     "id": "563c3621-6bd0-4b3b-9ce9-fd033694c751"
    }
   },
   "outputs": [
    {
     "data": {
      "text/plain": [
       "array([ 1, -2,  3,  4])"
      ]
     },
     "execution_count": 174,
     "metadata": {},
     "output_type": "execute_result"
    }
   ],
   "source": [
    "a               # but the shape of a is the same"
   ]
  },
  {
   "cell_type": "markdown",
   "metadata": {
    "nbpresent": {
     "id": "36e52a9f-60f5-4e1a-bfb6-fb031fff4243"
    },
    "slideshow": {
     "slide_type": "subslide"
    }
   },
   "source": [
    "- Deep copy"
   ]
  },
  {
   "cell_type": "code",
   "execution_count": 175,
   "metadata": {
    "nbpresent": {
     "id": "02c35994-a908-41c2-9a80-97651f8dc477"
    }
   },
   "outputs": [
    {
     "data": {
      "text/plain": [
       "False"
      ]
     },
     "execution_count": 175,
     "metadata": {},
     "output_type": "execute_result"
    }
   ],
   "source": [
    "d = a.copy()        # create a complete copy of a (new data is created)\n",
    "d is a              # not the same object"
   ]
  },
  {
   "cell_type": "code",
   "execution_count": 176,
   "metadata": {
    "nbpresent": {
     "id": "aa704766-dee5-484e-9b88-5ae547124c48"
    }
   },
   "outputs": [
    {
     "data": {
      "text/plain": [
       "False"
      ]
     },
     "execution_count": 176,
     "metadata": {},
     "output_type": "execute_result"
    }
   ],
   "source": [
    "d.base is a         # not sharing the same data"
   ]
  },
  {
   "cell_type": "markdown",
   "metadata": {
    "slideshow": {
     "slide_type": "slide"
    }
   },
   "source": [
    "# Outline\n",
    "1. Python Intro\n",
    "2. Python Basics (identifiers, types, operators)\n",
    "3. Control structures (conditional and loops)\n",
    "4. Functions, Classes\n",
    "5. File IO, Pickle, pandas\n",
    "6. NumPy\n",
    "7. **matplotlib**"
   ]
  },
  {
   "cell_type": "markdown",
   "metadata": {
    "nbpresent": {
     "id": "0421976a-15cf-48b9-8dd5-9385ec7c3ad8"
    },
    "slideshow": {
     "slide_type": "slide"
    }
   },
   "source": [
    "# Visualizing Data\n",
    "- Use matplotlib package to make plots and graphs\n",
    "- Works with Jupyter to show plots within the notebook"
   ]
  },
  {
   "cell_type": "code",
   "execution_count": 1,
   "metadata": {
    "nbpresent": {
     "id": "6df213b5-b625-49d6-82a0-488eb0268835"
    }
   },
   "outputs": [],
   "source": [
    "# setup matplotlib\n",
    "%matplotlib inline\n",
    "# setup output image format (Chrome works best)\n",
    "import IPython.core.display  \n",
    "IPython.core.display.set_matplotlib_formats(\"svg\") # file format\n",
    "import matplotlib.pyplot as plt"
   ]
  },
  {
   "cell_type": "markdown",
   "metadata": {
    "nbpresent": {
     "id": "d8c74e3e-8f54-43e3-8e1b-6df4380ea0cf"
    },
    "slideshow": {
     "slide_type": "subslide"
    }
   },
   "source": [
    "- Each cell will start a new figure automatically.\n",
    "- Plots are made piece by piece."
   ]
  },
  {
   "cell_type": "code",
   "execution_count": 2,
   "metadata": {
    "nbpresent": {
     "id": "886f00ea-67b6-45d1-b9a8-0d4887f719e4"
    },
    "scrolled": true
   },
   "outputs": [
    {
     "ename": "NameError",
     "evalue": "name 'linspace' is not defined",
     "output_type": "error",
     "traceback": [
      "\u001b[0;31m---------------------------------------------------------------------------\u001b[0m",
      "\u001b[0;31mNameError\u001b[0m                                 Traceback (most recent call last)",
      "\u001b[0;32m<ipython-input-2-39192c5c0e25>\u001b[0m in \u001b[0;36m<module>\u001b[0;34m\u001b[0m\n\u001b[0;32m----> 1\u001b[0;31m \u001b[0mx\u001b[0m \u001b[0;34m=\u001b[0m \u001b[0mlinspace\u001b[0m\u001b[0;34m(\u001b[0m\u001b[0;36m0\u001b[0m\u001b[0;34m,\u001b[0m\u001b[0;36m2\u001b[0m\u001b[0;34m*\u001b[0m\u001b[0mpi\u001b[0m\u001b[0;34m,\u001b[0m\u001b[0;36m16\u001b[0m\u001b[0;34m)\u001b[0m\u001b[0;34m\u001b[0m\u001b[0;34m\u001b[0m\u001b[0m\n\u001b[0m\u001b[1;32m      2\u001b[0m \u001b[0my\u001b[0m \u001b[0;34m=\u001b[0m \u001b[0msin\u001b[0m\u001b[0;34m(\u001b[0m\u001b[0mx\u001b[0m\u001b[0;34m)\u001b[0m\u001b[0;34m\u001b[0m\u001b[0;34m\u001b[0m\u001b[0m\n\u001b[1;32m      3\u001b[0m \u001b[0mplt\u001b[0m\u001b[0;34m.\u001b[0m\u001b[0mplot\u001b[0m\u001b[0;34m(\u001b[0m\u001b[0mx\u001b[0m\u001b[0;34m,\u001b[0m \u001b[0my\u001b[0m\u001b[0;34m,\u001b[0m \u001b[0;34m'bo-'\u001b[0m\u001b[0;34m)\u001b[0m\u001b[0;34m\u001b[0m\u001b[0;34m\u001b[0m\u001b[0m\n\u001b[1;32m      4\u001b[0m \u001b[0mplt\u001b[0m\u001b[0;34m.\u001b[0m\u001b[0mgrid\u001b[0m\u001b[0;34m(\u001b[0m\u001b[0;32mTrue\u001b[0m\u001b[0;34m)\u001b[0m\u001b[0;34m\u001b[0m\u001b[0;34m\u001b[0m\u001b[0m\n\u001b[1;32m      5\u001b[0m \u001b[0mplt\u001b[0m\u001b[0;34m.\u001b[0m\u001b[0mylabel\u001b[0m\u001b[0;34m(\u001b[0m\u001b[0;34m'y label'\u001b[0m\u001b[0;34m)\u001b[0m\u001b[0;34m;\u001b[0m \u001b[0mplt\u001b[0m\u001b[0;34m.\u001b[0m\u001b[0mxlabel\u001b[0m\u001b[0;34m(\u001b[0m\u001b[0;34m'x label'\u001b[0m\u001b[0;34m)\u001b[0m\u001b[0;34m;\u001b[0m \u001b[0mplt\u001b[0m\u001b[0;34m.\u001b[0m\u001b[0mtitle\u001b[0m\u001b[0;34m(\u001b[0m\u001b[0;34m'my title'\u001b[0m\u001b[0;34m)\u001b[0m\u001b[0;34m\u001b[0m\u001b[0;34m\u001b[0m\u001b[0m\n",
      "\u001b[0;31mNameError\u001b[0m: name 'linspace' is not defined"
     ]
    }
   ],
   "source": [
    "x = linspace(0,2*pi,16)\n",
    "y = sin(x)\n",
    "plt.plot(x, y, 'bo-')\n",
    "plt.grid(True)\n",
    "plt.ylabel('y label'); plt.xlabel('x label'); plt.title('my title')\n",
    "plt.show()"
   ]
  },
  {
   "cell_type": "markdown",
   "metadata": {
    "nbpresent": {
     "id": "e35dee67-a28a-4fa8-842e-97ffe9a4feab"
    },
    "slideshow": {
     "slide_type": "subslide"
    }
   },
   "source": [
    "- plot string specifies three things (e.g., `'bo-'`)\n",
    "  - colors:\n",
    "    - **b**lue, **r**ed, **g**reen, **m**agenta, **c**yan, **y**ellow, blac**k**, **w**hite\n",
    "  - markers: \n",
    "    - ”.”\tpoint;  “o”\tcircle\n",
    "    - “v”\ttriangle down; “^”\ttriangle up\n",
    "    - “<”\ttriangle left; “>”\ttriangle right\n",
    "    - “8”\toctagon;  “s”\tsquare\n",
    "    - “p”\tpentagon “*”\tstar\n",
    "    - “h”\thexagon1\n",
    "    - “+”\tplus; “x”\tx\n",
    "    - “d”\tthin_diamond\n",
    "  - line styles:\n",
    "    - '-' solid line\n",
    "    - '--' dashed line\n",
    "    - '-.' dash-dotted line\n",
    "    - ':' dotted lione"
   ]
  },
  {
   "cell_type": "markdown",
   "metadata": {
    "nbpresent": {
     "id": "1e2aad88-4d5d-4061-8f7e-6e368d1ea72d"
    },
    "slideshow": {
     "slide_type": "slide"
    }
   },
   "source": [
    "# Python Tutorials\n",
    "- Python - https://docs.python.org/3/tutorial/\n",
    "- numpy - https://docs.scipy.org/doc/numpy-dev/user/quickstart.html\n",
    "- “Machine Learning in Action” – Appendix A, Ch. 1\n",
    "- scikit-learn - http://scikit-learn.org/stable/tutorial/\n",
    "- matplotlib - http://matplotlib.org/users/pyplot_tutorial.html\n",
    "- pandas - https://pandas.pydata.org/pandas-docs/stable/tutorials.html\n",
    "\n"
   ]
  }
 ],
 "metadata": {
  "anaconda-cloud": {},
  "celltoolbar": "Slideshow",
  "kernelspec": {
   "display_name": "Python 3",
   "language": "python",
   "name": "python3"
  },
  "language_info": {
   "codemirror_mode": {
    "name": "ipython",
    "version": 3
   },
   "file_extension": ".py",
   "mimetype": "text/x-python",
   "name": "python",
   "nbconvert_exporter": "python",
   "pygments_lexer": "ipython3",
   "version": "3.7.5"
  }
 },
 "nbformat": 4,
 "nbformat_minor": 1
}
